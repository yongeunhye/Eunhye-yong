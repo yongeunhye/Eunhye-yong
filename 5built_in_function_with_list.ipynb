{
  "nbformat": 4,
  "nbformat_minor": 0,
  "metadata": {
    "colab": {
      "name": "5built in function_with_list.ipynb",
      "provenance": [],
      "authorship_tag": "ABX9TyPLwAV/MNLfjTtKeJVRCR0M",
      "include_colab_link": true
    },
    "kernelspec": {
      "name": "python3",
      "display_name": "Python 3"
    },
    "language_info": {
      "name": "python"
    }
  },
  "cells": [
    {
      "cell_type": "markdown",
      "metadata": {
        "id": "view-in-github",
        "colab_type": "text"
      },
      "source": [
        "<a href=\"https://colab.research.google.com/github/yongeunhye/Eunhye-yong/blob/master/5built_in_function_with_list.ipynb\" target=\"_parent\"><img src=\"https://colab.research.google.com/assets/colab-badge.svg\" alt=\"Open In Colab\"/></a>"
      ]
    },
    {
      "cell_type": "markdown",
      "source": [
        "#리스트와 자주 쓰이는 내장 함수\n",
        "\n",
        "•파이썬만의 고유한 기능들\n",
        "- 리스트에 적용할 수 있는 기본 함수 : min(), max(), sun() \n",
        "- 리스트 뒤집기 : reversed()\n",
        "- 현재 인덱스가 몇 번째인지 확인하기 : enumerate()\n",
        "- 딕셔너리로 쉽게 반복문 작성하기 : item()\n",
        "- 리스트 안에 for문 사용하기 : 리스트 내포"
      ],
      "metadata": {
        "id": "UJWXxWh3IPTR"
      }
    },
    {
      "cell_type": "code",
      "source": [
        "numbers=[103, 52, 273, 43, 77]\n",
        "min(numbers)"
      ],
      "metadata": {
        "colab": {
          "base_uri": "https://localhost:8080/"
        },
        "id": "lqJZ2SDNI2MJ",
        "outputId": "e682688e-633c-419d-ec7e-c0e73ad27e2e"
      },
      "execution_count": 3,
      "outputs": [
        {
          "output_type": "execute_result",
          "data": {
            "text/plain": [
              "43"
            ]
          },
          "metadata": {},
          "execution_count": 3
        }
      ]
    },
    {
      "cell_type": "code",
      "execution_count": 4,
      "metadata": {
        "colab": {
          "base_uri": "https://localhost:8080/"
        },
        "id": "CG5QR8YTHulK",
        "outputId": "5b49674b-7caa-4d76-d6ae-b01d6b4f14a4"
      },
      "outputs": [
        {
          "output_type": "execute_result",
          "data": {
            "text/plain": [
              "273"
            ]
          },
          "metadata": {},
          "execution_count": 4
        }
      ],
      "source": [
        "max(numbers)"
      ]
    },
    {
      "cell_type": "code",
      "source": [
        "sum(numbers) #내부값모두더하기"
      ],
      "metadata": {
        "colab": {
          "base_uri": "https://localhost:8080/"
        },
        "id": "oPfVX6NDKxc3",
        "outputId": "67639640-7a52-4b54-8019-42dd52004ea5"
      },
      "execution_count": 5,
      "outputs": [
        {
          "output_type": "execute_result",
          "data": {
            "text/plain": [
              "548"
            ]
          },
          "metadata": {},
          "execution_count": 5
        }
      ]
    },
    {
      "cell_type": "code",
      "source": [
        "example_list=[\"요소1\",\"요소2\",\"요소3\"]"
      ],
      "metadata": {
        "id": "Tai3vgipK3XR"
      },
      "execution_count": 12,
      "outputs": []
    },
    {
      "cell_type": "code",
      "source": [
        "# print(example_list)\n",
        "\n",
        "print(enumerate(example_list))\n",
        "print()\n",
        "\n",
        "print(list(enumerate(example_list)))\n",
        "\n",
        "print(\"#반복문과 조합\")\n",
        "\n",
        "for i , value in enumerate(example_list):\n",
        "  print(\"{}번째 요소는 {}입니다.\".format(i, value))"
      ],
      "metadata": {
        "colab": {
          "base_uri": "https://localhost:8080/"
        },
        "id": "F7Es4ZA5LHqI",
        "outputId": "f48df63c-96ce-4358-c581-2b0f1457e3f2"
      },
      "execution_count": 18,
      "outputs": [
        {
          "output_type": "stream",
          "name": "stdout",
          "text": [
            "<enumerate object at 0x7ff6459d0730>\n",
            "\n",
            "[(0, '요소1'), (1, '요소2'), (2, '요소3')]\n",
            "#반복문과 조합\n",
            "0번째 요소는 요소1입니다.\n",
            "1번째 요소는 요소2입니다.\n",
            "2번째 요소는 요소3입니다.\n"
          ]
        }
      ]
    },
    {
      "cell_type": "code",
      "source": [
        "example_dictionary={\n",
        "    \"키\":\"값\", \n",
        "    \"키2\":\"값2\",\n",
        "    \"키3\":\"값3\"\n",
        "}\n",
        "\n",
        "print(\"item():\", example_dictionary.items())\n",
        "print()\n",
        "\n",
        "for key, element in example_dictionary.items():\n",
        "  print(\"dictionary[{}]={}\".format(key, element))"
      ],
      "metadata": {
        "colab": {
          "base_uri": "https://localhost:8080/"
        },
        "id": "f_eKspN-LP9Q",
        "outputId": "ae63af9c-b102-4422-c050-da9b5d6a45eb"
      },
      "execution_count": 23,
      "outputs": [
        {
          "output_type": "stream",
          "name": "stdout",
          "text": [
            "item(): dict_items([('키', '값'), ('키2', '값2'), ('키3', '값3')])\n",
            "\n",
            "dictionary[키]=값\n",
            "dictionary[키2]=값2\n",
            "dictionary[키3]=값3\n"
          ]
        }
      ]
    }
  ]
}