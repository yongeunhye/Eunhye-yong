{
  "nbformat": 4,
  "nbformat_minor": 0,
  "metadata": {
    "colab": {
      "name": "2condition_statment",
      "provenance": [],
      "collapsed_sections": [],
      "authorship_tag": "ABX9TyNO2WqDSOk5OTMel2QvMhQs",
      "include_colab_link": true
    },
    "kernelspec": {
      "name": "python3",
      "display_name": "Python 3"
    },
    "language_info": {
      "name": "python"
    }
  },
  "cells": [
    {
      "cell_type": "markdown",
      "metadata": {
        "id": "view-in-github",
        "colab_type": "text"
      },
      "source": [
        "<a href=\"https://colab.research.google.com/github/yongeunhye/Eunhye-yong/blob/master/2condition_statment.ipynb\" target=\"_parent\"><img src=\"https://colab.research.google.com/assets/colab-badge.svg\" alt=\"Open In Colab\"/></a>"
      ]
    },
    {
      "cell_type": "markdown",
      "source": [
        "#제어문\n",
        "조건문"
      ],
      "metadata": {
        "id": "uQsKo9-HaX-s"
      }
    },
    {
      "cell_type": "code",
      "source": [
        "if False:\n",
        "  print(\"True입니다\")\n",
        "  print(\"정말 트루입니다.\")\n",
        "print(\"이프문 아님\")\n"
      ],
      "metadata": {
        "colab": {
          "base_uri": "https://localhost:8080/"
        },
        "id": "ax_Pp9V5aems",
        "outputId": "6ca86cfd-4667-4c4f-936e-903fa92e0d6b"
      },
      "execution_count": null,
      "outputs": [
        {
          "output_type": "stream",
          "name": "stdout",
          "text": [
            "이프문 아님\n"
          ]
        }
      ]
    },
    {
      "cell_type": "code",
      "source": [
        "if True:\n",
        "  print(\"True입니다\")\n",
        "  print(\"정말 트루입니다.\")\n",
        "print(\"이프문 아님\")\n"
      ],
      "metadata": {
        "colab": {
          "base_uri": "https://localhost:8080/"
        },
        "id": "FCLBjjUubSJE",
        "outputId": "6460891f-caf8-4ba5-ea1c-2d7559aa170b"
      },
      "execution_count": null,
      "outputs": [
        {
          "output_type": "stream",
          "name": "stdout",
          "text": [
            "True입니다\n",
            "정말 트루입니다.\n",
            "이프문 아님\n"
          ]
        }
      ]
    },
    {
      "cell_type": "code",
      "source": [
        "num=int(input(\"정수입력> \"))"
      ],
      "metadata": {
        "colab": {
          "base_uri": "https://localhost:8080/"
        },
        "id": "BmLCTKOMbmVw",
        "outputId": "4187d989-b504-4fb5-c851-ef207c6f23b5"
      },
      "execution_count": null,
      "outputs": [
        {
          "name": "stdout",
          "output_type": "stream",
          "text": [
            "정수입력> 0\n"
          ]
        }
      ]
    },
    {
      "cell_type": "code",
      "source": [
        "num "
      ],
      "metadata": {
        "colab": {
          "base_uri": "https://localhost:8080/"
        },
        "id": "FK5UvKxLbssl",
        "outputId": "980a2b18-9fbb-4b82-d13e-e0e29fb7587a"
      },
      "execution_count": null,
      "outputs": [
        {
          "output_type": "execute_result",
          "data": {
            "text/plain": [
              "20"
            ]
          },
          "metadata": {},
          "execution_count": 6
        }
      ]
    },
    {
      "cell_type": "code",
      "source": [
        "#0보다 크면 양수\n",
        "#0보다 작으면 음수\n",
        "#0이면 0\n",
        "if num>0:\n",
        "  print(\"{}은양수입니다\".format(num))\n",
        "elif num<0:\n",
        "  print(\"{}은 음수입니다.\".format(num))\n",
        "else:\n",
        "  print(\"{}은 없는 것입니다.\".format(num))"
      ],
      "metadata": {
        "colab": {
          "base_uri": "https://localhost:8080/"
        },
        "id": "Lc1SBYHBb5eO",
        "outputId": "5d1ff5b0-0006-499a-fbb6-7c7f76e93fcf"
      },
      "execution_count": null,
      "outputs": [
        {
          "output_type": "stream",
          "name": "stdout",
          "text": [
            "0은 없는 것입니다.\n"
          ]
        }
      ]
    },
    {
      "cell_type": "code",
      "source": [
        "import datetime"
      ],
      "metadata": {
        "id": "6OyATY4gcNJf"
      },
      "execution_count": null,
      "outputs": []
    },
    {
      "cell_type": "code",
      "source": [
        "now=datetime.datetime.now()\n",
        "now\n",
        "print(now)\n",
        "print(type(now))\n",
        "\n",
        "print(now.weekday())\n",
        "\n",
        "#class 면 다른 속성이 있음"
      ],
      "metadata": {
        "colab": {
          "base_uri": "https://localhost:8080/"
        },
        "id": "2VVdlcD5dna4",
        "outputId": "dd115473-96a5-4aa1-f26c-bce000865194"
      },
      "execution_count": null,
      "outputs": [
        {
          "output_type": "stream",
          "name": "stdout",
          "text": [
            "2022-03-03 07:01:50.734317\n",
            "<class 'datetime.datetime'>\n",
            "3\n"
          ]
        }
      ]
    },
    {
      "cell_type": "code",
      "source": [
        "week=now.weekday()\n",
        "week\n",
        "\n",
        "if 0 == w:\n",
        "  week=\"월\"\n",
        "elif 1 == w:\n",
        "  week=\"화\"\n",
        "elif 2 == w:\n",
        "  week=\"수\"\n",
        "elif 3 == w:\n",
        "  week=\"목\"\n",
        "elif 4 == w:\n",
        "  week=\"금\"\n",
        "elif 5 == w:\n",
        "  week=\"토\"\n",
        "elif 6 == w:\n",
        "  week=\"일\"\n",
        "\n",
        "print(week)\n"
      ],
      "metadata": {
        "colab": {
          "base_uri": "https://localhost:8080/"
        },
        "id": "SeZl2jiJld4F",
        "outputId": "ede2f218-7f2e-4e10-96a8-54a8f0a6783a"
      },
      "execution_count": null,
      "outputs": [
        {
          "output_type": "stream",
          "name": "stdout",
          "text": [
            "목\n"
          ]
        }
      ]
    },
    {
      "cell_type": "code",
      "source": [
        "week = \"월화수목금토일\"\n",
        "#w=now.weekday()\n",
        "#w는 0~6, 요일 값, 일요일 6, 월요일 0\n",
        "week[w]"
      ],
      "metadata": {
        "colab": {
          "base_uri": "https://localhost:8080/",
          "height": 36
        },
        "id": "Hli17L20qb83",
        "outputId": "4fb6c2a7-4a9f-4354-a577-1a50bb7fcb10"
      },
      "execution_count": null,
      "outputs": [
        {
          "output_type": "execute_result",
          "data": {
            "application/vnd.google.colaboratory.intrinsic+json": {
              "type": "string"
            },
            "text/plain": [
              "'목'"
            ]
          },
          "metadata": {},
          "execution_count": 60
        }
      ]
    },
    {
      "cell_type": "code",
      "source": [
        "print(now.year, \"년\", now.month, \"월\", now.day, \"일\", week[w],\"요일\", now.hour, \"시\", now.minute, now.second, \"분\")\n",
        "#속성과 메서드는 다름 "
      ],
      "metadata": {
        "colab": {
          "base_uri": "https://localhost:8080/"
        },
        "id": "szRWSCPKeIxG",
        "outputId": "e3387314-f814-40db-d4cd-db384312d8d6"
      },
      "execution_count": null,
      "outputs": [
        {
          "output_type": "stream",
          "name": "stdout",
          "text": [
            "2022 년 3 월 3 일 목 요일 7 시 1 50 분\n"
          ]
        }
      ]
    },
    {
      "cell_type": "code",
      "source": [
        "month_val=now.month\n",
        "if 3<=now.month<=5:\n",
        "  print(f\"이번달은 {month_val}월로 봄입니다.\")\n",
        "elif 6<=now.month<=8:\n",
        "  print(f\"이번달은 {month_val}월로 여름입니다.\")\n",
        "elif 9<=now.month<=11:\n",
        "  print(f\"이번달은 {month_val}월로 가을입니다.\")\n",
        "else:\n",
        "  print(f\"이번달은 {month_val}월로 겨울입니다.\")\n"
      ],
      "metadata": {
        "colab": {
          "base_uri": "https://localhost:8080/"
        },
        "id": "Yb607gqSgBR3",
        "outputId": "4503f734-d7d9-48c8-e404-156e45428bf0"
      },
      "execution_count": null,
      "outputs": [
        {
          "output_type": "stream",
          "name": "stdout",
          "text": [
            "이번달은 3월로 봄입니다.\n"
          ]
        }
      ]
    },
    {
      "cell_type": "markdown",
      "source": [
        "#pass 키워드\n",
        " \n",
        "아무것도 작성하지 않고 임시적으로 비워 둠"
      ],
      "metadata": {
        "id": "KbwI-IZQyKZh"
      }
    },
    {
      "cell_type": "code",
      "source": [
        ""
      ],
      "metadata": {
        "id": "qYSiatG1uDJZ"
      },
      "execution_count": null,
      "outputs": []
    }
  ]
}