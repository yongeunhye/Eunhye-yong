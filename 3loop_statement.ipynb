{
  "nbformat": 4,
  "nbformat_minor": 0,
  "metadata": {
    "colab": {
      "name": "3loop_statement.ipynb",
      "provenance": [],
      "authorship_tag": "ABX9TyOFhUsYwWyNLfX/1y5AW6Jy",
      "include_colab_link": true
    },
    "kernelspec": {
      "name": "python3",
      "display_name": "Python 3"
    },
    "language_info": {
      "name": "python"
    }
  },
  "cells": [
    {
      "cell_type": "markdown",
      "metadata": {
        "id": "view-in-github",
        "colab_type": "text"
      },
      "source": [
        "<a href=\"https://colab.research.google.com/github/yongeunhye/Eunhye-yong/blob/master/3loop_statement.ipynb\" target=\"_parent\"><img src=\"https://colab.research.google.com/assets/colab-badge.svg\" alt=\"Open In Colab\"/></a>"
      ]
    },
    {
      "cell_type": "markdown",
      "source": [
        "#리스트 \n",
        "\n",
        "\n"
      ],
      "metadata": {
        "id": "2CUkMl__0BGU"
      }
    },
    {
      "cell_type": "code",
      "execution_count": null,
      "metadata": {
        "colab": {
          "base_uri": "https://localhost:8080/"
        },
        "id": "iWVqSP6fzr3U",
        "outputId": "4bf43558-361a-4158-b46d-e98c932ca1ff"
      },
      "outputs": [
        {
          "output_type": "execute_result",
          "data": {
            "text/plain": [
              "273"
            ]
          },
          "metadata": {},
          "execution_count": 28
        }
      ],
      "source": [
        "#클래스 LisVal\n",
        "#함수 ㅣisVal\n",
        "#list_val\n",
        "\n",
        "list_a=[273, 43, 108, \"문자열\", True, False]\n",
        "list_a[0]"
      ]
    },
    {
      "cell_type": "code",
      "source": [
        "list_a[1:4] #1~4까지 참조\n"
      ],
      "metadata": {
        "colab": {
          "base_uri": "https://localhost:8080/"
        },
        "id": "1T1V4L0V07r0",
        "outputId": "8684c97d-aa30-4d59-dc0c-196ea81bad30"
      },
      "execution_count": null,
      "outputs": [
        {
          "output_type": "execute_result",
          "data": {
            "text/plain": [
              "[43, 108, '문자열']"
            ]
          },
          "metadata": {},
          "execution_count": 29
        }
      ]
    },
    {
      "cell_type": "code",
      "source": [
        "list_a[0]=\"0자리\""
      ],
      "metadata": {
        "id": "8rFCzHzE1mju"
      },
      "execution_count": null,
      "outputs": []
    },
    {
      "cell_type": "code",
      "source": [
        "list_a"
      ],
      "metadata": {
        "colab": {
          "base_uri": "https://localhost:8080/"
        },
        "id": "SPXJkpYr1zdB",
        "outputId": "000c3a95-8c97-4a00-8eac-b506a796d7bb"
      },
      "execution_count": null,
      "outputs": [
        {
          "output_type": "execute_result",
          "data": {
            "text/plain": [
              "[1, 2, 3]"
            ]
          },
          "metadata": {},
          "execution_count": 22
        }
      ]
    },
    {
      "cell_type": "code",
      "source": [
        "list_a[2]=[2,3,4,5]\n",
        "list_a"
      ],
      "metadata": {
        "colab": {
          "base_uri": "https://localhost:8080/"
        },
        "id": "nEpYZiJm17Tr",
        "outputId": "6e521b82-ee23-4d32-c078-10726340cb8c"
      },
      "execution_count": null,
      "outputs": [
        {
          "output_type": "execute_result",
          "data": {
            "text/plain": [
              "[1, 2, [2, 3, 4, 5]]"
            ]
          },
          "metadata": {},
          "execution_count": 26
        }
      ]
    },
    {
      "cell_type": "code",
      "source": [
        "list_a[3]\n",
        "list_a[3][0]"
      ],
      "metadata": {
        "colab": {
          "base_uri": "https://localhost:8080/",
          "height": 36
        },
        "id": "gm8-a8PW2ARI",
        "outputId": "703fbb6c-c1c3-4f88-8b1d-8eb73fa15abd"
      },
      "execution_count": null,
      "outputs": [
        {
          "output_type": "execute_result",
          "data": {
            "application/vnd.google.colaboratory.intrinsic+json": {
              "type": "string"
            },
            "text/plain": [
              "'문'"
            ]
          },
          "metadata": {},
          "execution_count": 30
        }
      ]
    },
    {
      "cell_type": "code",
      "source": [
        "list_a[1]\n",
        "list_a[2][1]"
      ],
      "metadata": {
        "colab": {
          "base_uri": "https://localhost:8080/",
          "height": 187
        },
        "id": "FboeUtfE2wE2",
        "outputId": "e696c8cc-9940-4627-ef76-616162d06921"
      },
      "execution_count": null,
      "outputs": [
        {
          "output_type": "error",
          "ename": "TypeError",
          "evalue": "ignored",
          "traceback": [
            "\u001b[0;31m---------------------------------------------------------------------------\u001b[0m",
            "\u001b[0;31mTypeError\u001b[0m                                 Traceback (most recent call last)",
            "\u001b[0;32m<ipython-input-32-de09fe64cacd>\u001b[0m in \u001b[0;36m<module>\u001b[0;34m()\u001b[0m\n\u001b[1;32m      1\u001b[0m \u001b[0mlist_a\u001b[0m\u001b[0;34m[\u001b[0m\u001b[0;36m1\u001b[0m\u001b[0;34m]\u001b[0m\u001b[0;34m\u001b[0m\u001b[0;34m\u001b[0m\u001b[0m\n\u001b[0;32m----> 2\u001b[0;31m \u001b[0mlist_a\u001b[0m\u001b[0;34m[\u001b[0m\u001b[0;36m2\u001b[0m\u001b[0;34m]\u001b[0m\u001b[0;34m[\u001b[0m\u001b[0;36m1\u001b[0m\u001b[0;34m]\u001b[0m\u001b[0;34m\u001b[0m\u001b[0;34m\u001b[0m\u001b[0m\n\u001b[0m",
            "\u001b[0;31mTypeError\u001b[0m: 'int' object is not subscriptable"
          ]
        }
      ]
    },
    {
      "cell_type": "code",
      "source": [
        "list_a=[1,2,3]\n",
        "list_b=[4,5,6]\n"
      ],
      "metadata": {
        "id": "sLQZLo2r3j79"
      },
      "execution_count": null,
      "outputs": []
    },
    {
      "cell_type": "code",
      "source": [
        "list_c=list_a+list_b\n",
        "list_c"
      ],
      "metadata": {
        "colab": {
          "base_uri": "https://localhost:8080/"
        },
        "id": "_bwCBEDO34TR",
        "outputId": "f37f5450-c655-4a99-c4f5-8904d24181ae"
      },
      "execution_count": null,
      "outputs": [
        {
          "output_type": "execute_result",
          "data": {
            "text/plain": [
              "[1, 2, 3, 4, 5, 6]"
            ]
          },
          "metadata": {},
          "execution_count": 34
        }
      ]
    },
    {
      "cell_type": "code",
      "source": [
        "list_a*3"
      ],
      "metadata": {
        "colab": {
          "base_uri": "https://localhost:8080/"
        },
        "id": "ieUpxdAI38N1",
        "outputId": "ef80a047-5ece-4d1a-af65-81aeaf250c4e"
      },
      "execution_count": null,
      "outputs": [
        {
          "output_type": "execute_result",
          "data": {
            "text/plain": [
              "[1, 2, 3, 1, 2, 3, 1, 2, 3]"
            ]
          },
          "metadata": {},
          "execution_count": 35
        }
      ]
    },
    {
      "cell_type": "code",
      "source": [
        "print(list_a*3)\n",
        "print(len(list_a*3))"
      ],
      "metadata": {
        "colab": {
          "base_uri": "https://localhost:8080/"
        },
        "id": "-BY0eABk3_Ky",
        "outputId": "46b9646c-7640-48a9-f8d5-accdbac82e50"
      },
      "execution_count": null,
      "outputs": [
        {
          "output_type": "stream",
          "name": "stdout",
          "text": [
            "[1, 2, 3, 1, 2, 3, 1, 2, 3]\n",
            "9\n"
          ]
        }
      ]
    },
    {
      "cell_type": "markdown",
      "source": [
        "# append() 함수\n",
        "- 리스트 뒤에 요소를 추가 \n",
        "# insert() 함수\n",
        "- 리스트 중간에 요소를 추가"
      ],
      "metadata": {
        "id": "lFGCeWUc48XS"
      }
    },
    {
      "cell_type": "code",
      "source": [
        "list_d=[1,2,3]"
      ],
      "metadata": {
        "id": "o7vtpA8E47Ss"
      },
      "execution_count": null,
      "outputs": []
    },
    {
      "cell_type": "code",
      "source": [
        "list_d.append(4)\n",
        "list_d.append(5)\n",
        "list_d"
      ],
      "metadata": {
        "colab": {
          "base_uri": "https://localhost:8080/"
        },
        "id": "g-sxT1785e_C",
        "outputId": "37bcad62-5cec-408d-b22c-9f6e7f56a5a8"
      },
      "execution_count": null,
      "outputs": [
        {
          "output_type": "execute_result",
          "data": {
            "text/plain": [
              "[1, 2, 3, 4, 5]"
            ]
          },
          "metadata": {},
          "execution_count": 54
        }
      ]
    },
    {
      "cell_type": "code",
      "source": [
        "list_d.insert(0,10),\n",
        "list_d"
      ],
      "metadata": {
        "colab": {
          "base_uri": "https://localhost:8080/"
        },
        "id": "pMI8YCKQ5ueA",
        "outputId": "fd32a291-76ed-422b-c8c5-7ccf26afed40"
      },
      "execution_count": null,
      "outputs": [
        {
          "output_type": "execute_result",
          "data": {
            "text/plain": [
              "[10, 1, 2, 3, 4, 5]"
            ]
          },
          "metadata": {},
          "execution_count": 55
        }
      ]
    },
    {
      "cell_type": "code",
      "source": [
        "list_d.extend([9,8])\n",
        "list_d"
      ],
      "metadata": {
        "colab": {
          "base_uri": "https://localhost:8080/"
        },
        "id": "-6Je_n476EPJ",
        "outputId": "28fd2449-6a77-4ad6-99bd-c06fb2e24946"
      },
      "execution_count": null,
      "outputs": [
        {
          "output_type": "execute_result",
          "data": {
            "text/plain": [
              "[10, 1, 2, 3, 4, 5, 9, 8]"
            ]
          },
          "metadata": {},
          "execution_count": 56
        }
      ]
    },
    {
      "cell_type": "code",
      "source": [
        "list_e=[1,2,3]\n",
        "list_f=[4,5,6]\n",
        "list_e.extend(list_f)\n",
        "list_e"
      ],
      "metadata": {
        "colab": {
          "base_uri": "https://localhost:8080/"
        },
        "id": "1Fefv-yp6WIX",
        "outputId": "73b39eb7-fd89-4591-b108-e4fe2f54c8c9"
      },
      "execution_count": null,
      "outputs": [
        {
          "output_type": "execute_result",
          "data": {
            "text/plain": [
              "[1, 2, 3, 4, 5, 6]"
            ]
          },
          "metadata": {},
          "execution_count": 65
        }
      ]
    },
    {
      "cell_type": "code",
      "source": [
        "list_f"
      ],
      "metadata": {
        "colab": {
          "base_uri": "https://localhost:8080/"
        },
        "id": "4N7LRJYe6lpt",
        "outputId": "de09dacc-54a5-4619-cfaa-5521900bd39a"
      },
      "execution_count": null,
      "outputs": [
        {
          "output_type": "execute_result",
          "data": {
            "text/plain": [
              "[4, 5, 6]"
            ]
          },
          "metadata": {},
          "execution_count": 66
        }
      ]
    },
    {
      "cell_type": "code",
      "source": [
        "del list_f[0]"
      ],
      "metadata": {
        "id": "nCYEQQGk7XrW"
      },
      "execution_count": null,
      "outputs": []
    },
    {
      "cell_type": "code",
      "source": [
        "list_f"
      ],
      "metadata": {
        "colab": {
          "base_uri": "https://localhost:8080/"
        },
        "id": "AlC2Ta7X7aDw",
        "outputId": "e4a62f9a-685d-415a-8b04-68d361ceb729"
      },
      "execution_count": null,
      "outputs": [
        {
          "output_type": "execute_result",
          "data": {
            "text/plain": [
              "[5, 6]"
            ]
          },
          "metadata": {},
          "execution_count": 68
        }
      ]
    },
    {
      "cell_type": "code",
      "source": [
        "list_f.pop(1)"
      ],
      "metadata": {
        "colab": {
          "base_uri": "https://localhost:8080/"
        },
        "id": "6W7-nuRu7fS5",
        "outputId": "9ba9305c-fb59-4627-c034-3e752b3f28ad"
      },
      "execution_count": null,
      "outputs": [
        {
          "output_type": "execute_result",
          "data": {
            "text/plain": [
              "6"
            ]
          },
          "metadata": {},
          "execution_count": 69
        }
      ]
    },
    {
      "cell_type": "code",
      "source": [
        "list_f"
      ],
      "metadata": {
        "colab": {
          "base_uri": "https://localhost:8080/"
        },
        "id": "iUGG8T2S7maA",
        "outputId": "e20a8583-3840-4395-da8e-d0f86f594f82"
      },
      "execution_count": null,
      "outputs": [
        {
          "output_type": "execute_result",
          "data": {
            "text/plain": [
              "[5]"
            ]
          },
          "metadata": {},
          "execution_count": 71
        }
      ]
    },
    {
      "cell_type": "code",
      "source": [
        "list_c=[1,2,1,2]\n",
        "list_c.remove(2)\n",
        "list_c\n",
        "#remove는 인덱스가 아닌 값을 제거 ()에 값이 들어감 \n"
      ],
      "metadata": {
        "colab": {
          "base_uri": "https://localhost:8080/"
        },
        "id": "4yne6sfO9W4Q",
        "outputId": "76cd602b-b420-4c10-b4c8-ce2a428201f7"
      },
      "execution_count": null,
      "outputs": [
        {
          "output_type": "execute_result",
          "data": {
            "text/plain": [
              "[1, 1, 2]"
            ]
          },
          "metadata": {},
          "execution_count": 73
        }
      ]
    },
    {
      "cell_type": "code",
      "source": [
        "list_c.clear()\n",
        "list_c"
      ],
      "metadata": {
        "colab": {
          "base_uri": "https://localhost:8080/"
        },
        "id": "ZUf_rRJR9in4",
        "outputId": "e8e23c40-2624-4ccb-8702-bab7cbc1480f"
      },
      "execution_count": null,
      "outputs": [
        {
          "output_type": "execute_result",
          "data": {
            "text/plain": [
              "[]"
            ]
          },
          "metadata": {},
          "execution_count": 74
        }
      ]
    },
    {
      "cell_type": "code",
      "source": [
        "list_a=[273, 32, 345,67,76]\n",
        "32 in list_a\n",
        "\n",
        "#in은 리스트 안에 특정 값이 있는지 확인"
      ],
      "metadata": {
        "colab": {
          "base_uri": "https://localhost:8080/"
        },
        "id": "cDYErhbe9oJJ",
        "outputId": "8cad04eb-2fe1-4cc1-a596-4f68376a86d4"
      },
      "execution_count": null,
      "outputs": [
        {
          "output_type": "execute_result",
          "data": {
            "text/plain": [
              "True"
            ]
          },
          "metadata": {},
          "execution_count": 75
        }
      ]
    },
    {
      "cell_type": "code",
      "source": [
        "#not in은 리스트 내부에 해당 값이 없는지 확인 \n",
        "\n",
        "88 not in list_a"
      ],
      "metadata": {
        "colab": {
          "base_uri": "https://localhost:8080/"
        },
        "id": "dpJKzCRj90Y9",
        "outputId": "aa9598f4-d25f-4d39-c161-cf6b89ab3bbb"
      },
      "execution_count": null,
      "outputs": [
        {
          "output_type": "execute_result",
          "data": {
            "text/plain": [
              "True"
            ]
          },
          "metadata": {},
          "execution_count": 76
        }
      ]
    },
    {
      "cell_type": "markdown",
      "source": [
        "# for 반복문 \n",
        "for in\n",
        "\n",
        "for ele in range(n)\n",
        "for ele in range(start, stop)\n",
        "for ele in range(start, stop, step)\n",
        "for ele in list\n"
      ],
      "metadata": {
        "id": "LFGnuHaN_UIw"
      }
    },
    {
      "cell_type": "code",
      "source": [
        "for i in range(3): #0부터 3-1까지의 범위\n",
        "  print(i)\n",
        "  print(\"용은혜\")"
      ],
      "metadata": {
        "id": "NUP63C9r99ez",
        "colab": {
          "base_uri": "https://localhost:8080/"
        },
        "outputId": "625cac53-95ad-4e65-baee-13ff972116fc"
      },
      "execution_count": 77,
      "outputs": [
        {
          "output_type": "stream",
          "name": "stdout",
          "text": [
            "0\n",
            "용은혜\n",
            "1\n",
            "용은혜\n",
            "2\n",
            "용은혜\n"
          ]
        }
      ]
    },
    {
      "cell_type": "code",
      "source": [
        "for i in range(1,5): #1은 시작 5는 마지막이지만 5-1까지\n",
        "  print(i)\n",
        "  print(\"용은혜\")"
      ],
      "metadata": {
        "colab": {
          "base_uri": "https://localhost:8080/"
        },
        "id": "umK2Bi_q_5Uc",
        "outputId": "6064752c-64e0-41c2-de73-159d9cffe62c"
      },
      "execution_count": 78,
      "outputs": [
        {
          "output_type": "stream",
          "name": "stdout",
          "text": [
            "1\n",
            "용은혜\n",
            "2\n",
            "용은혜\n",
            "3\n",
            "용은혜\n",
            "4\n",
            "용은혜\n"
          ]
        }
      ]
    },
    {
      "cell_type": "code",
      "source": [
        "for i in range(1,10,2): #세번째 전달인자(2)는 step \n",
        "  print(i)\n",
        "  print(\"용은혜\")"
      ],
      "metadata": {
        "colab": {
          "base_uri": "https://localhost:8080/"
        },
        "id": "o0Bw69yrAGn4",
        "outputId": "38b0cca1-1588-4f0f-a566-aebecd2db7b1"
      },
      "execution_count": 79,
      "outputs": [
        {
          "output_type": "stream",
          "name": "stdout",
          "text": [
            "1\n",
            "용은혜\n",
            "3\n",
            "용은혜\n",
            "5\n",
            "용은혜\n",
            "7\n",
            "용은혜\n",
            "9\n",
            "용은혜\n"
          ]
        }
      ]
    },
    {
      "cell_type": "code",
      "source": [
        "array=[273, 32, 345,67,76]\n",
        "array"
      ],
      "metadata": {
        "colab": {
          "base_uri": "https://localhost:8080/"
        },
        "id": "xZyTlw3oAiNE",
        "outputId": "b3afe8a5-f12d-4dad-8ed4-703e4f021b7e"
      },
      "execution_count": 80,
      "outputs": [
        {
          "output_type": "execute_result",
          "data": {
            "text/plain": [
              "[273, 32, 345, 67, 76]"
            ]
          },
          "metadata": {},
          "execution_count": 80
        }
      ]
    },
    {
      "cell_type": "code",
      "source": [
        "for element in array:\n",
        "  print(element). #ele 갯수만큼 반복 "
      ],
      "metadata": {
        "colab": {
          "base_uri": "https://localhost:8080/"
        },
        "id": "m57EJNZ9Ao12",
        "outputId": "427eea3f-64ef-42dc-8f6f-650bac752183"
      },
      "execution_count": 81,
      "outputs": [
        {
          "output_type": "stream",
          "name": "stdout",
          "text": [
            "273\n",
            "32\n",
            "345\n",
            "67\n",
            "76\n"
          ]
        }
      ]
    },
    {
      "cell_type": "code",
      "source": [
        "numbers=[273, 103, 5, 32, 65, 9, 809, 99]\n",
        "\n",
        "for number in numbers:\n",
        "  if 100 <= number:\n",
        "    print(\"-100이상의 수:\", number) "
      ],
      "metadata": {
        "colab": {
          "base_uri": "https://localhost:8080/"
        },
        "id": "yhxfuD3lCYSJ",
        "outputId": "65d4fdcb-33f2-420c-bbf5-ee783f81c551"
      },
      "execution_count": 87,
      "outputs": [
        {
          "output_type": "stream",
          "name": "stdout",
          "text": [
            "-100이상의 수: 273\n",
            "-100이상의 수: 103\n",
            "-100이상의 수: 809\n"
          ]
        }
      ]
    }
  ]
}