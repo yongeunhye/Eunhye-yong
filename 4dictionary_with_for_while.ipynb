{
  "nbformat": 4,
  "nbformat_minor": 0,
  "metadata": {
    "colab": {
      "name": "4dictionary with for while.ipynb",
      "provenance": [],
      "collapsed_sections": [],
      "authorship_tag": "ABX9TyMsgHYQumYYrjRuBTfyp8Ez",
      "include_colab_link": true
    },
    "kernelspec": {
      "name": "python3",
      "display_name": "Python 3"
    },
    "language_info": {
      "name": "python"
    }
  },
  "cells": [
    {
      "cell_type": "markdown",
      "metadata": {
        "id": "view-in-github",
        "colab_type": "text"
      },
      "source": [
        "<a href=\"https://colab.research.google.com/github/yongeunhye/Eunhye-yong/blob/master/4dictionary_with_for_while.ipynb\" target=\"_parent\"><img src=\"https://colab.research.google.com/assets/colab-badge.svg\" alt=\"Open In Colab\"/></a>"
      ]
    },
    {
      "cell_type": "markdown",
      "source": [
        "#딕셔너리 자료구조 실습 "
      ],
      "metadata": {
        "id": "IHIvOkv9ntsx"
      }
    },
    {
      "cell_type": "markdown",
      "source": [
        "## 딕셔너리 요소에 접근하기 \n",
        "- 특정 키값만 따로 출력 \n"
      ],
      "metadata": {
        "id": "Xpf5JGpOntyV"
      }
    },
    {
      "cell_type": "code",
      "source": [
        "dict_a={\"name\":\"어벤져스 엔드게임\", \n",
        "        \"type\":\"히어로무비\"}"
      ],
      "metadata": {
        "id": "7bpfcGsSnyfo"
      },
      "execution_count": null,
      "outputs": []
    },
    {
      "cell_type": "code",
      "source": [
        "print(dict_a['name'])\n",
        "print(type(dict_)ar)"
      ],
      "metadata": {
        "colab": {
          "base_uri": "https://localhost:8080/"
        },
        "id": "rrLMLWBDoWMf",
        "outputId": "8391cf1b-96be-4cdf-d739-a8e4f6b96df4"
      },
      "execution_count": null,
      "outputs": [
        {
          "output_type": "stream",
          "name": "stdout",
          "text": [
            "어벤져스 엔드게임\n",
            "<class 'dict'>\n"
          ]
        }
      ]
    },
    {
      "cell_type": "code",
      "source": [
        "dict_d={\n",
        "    \"director\":[\"안소니루소\",\"조루소\"],\n",
        "    \"cast\":[\"아이언맨\", \"타노스\", \"토르\", \"닥터스트레인지\", \"헐크\"]\n",
        "\n",
        "}"
      ],
      "metadata": {
        "id": "792LCDj3puy9"
      },
      "execution_count": null,
      "outputs": []
    },
    {
      "cell_type": "code",
      "source": [
        "dict_d"
      ],
      "metadata": {
        "colab": {
          "base_uri": "https://localhost:8080/"
        },
        "id": "31eKMmi8qEcq",
        "outputId": "c19746cc-68de-4a5d-c3ab-82017dc5005f"
      },
      "execution_count": null,
      "outputs": [
        {
          "output_type": "execute_result",
          "data": {
            "text/plain": [
              "{'cast': ['아이언맨', '타노스', '토르', '닥터스트레인지', '헐크'], 'director': ['안소니루소', '조루소']}"
            ]
          },
          "metadata": {},
          "execution_count": 21
        }
      ]
    },
    {
      "cell_type": "code",
      "source": [
        "dictionary={\n",
        "    \"name\":\"건조망고\",\n",
        "    \"type\": \"sugar\",\n",
        "    \"ingredient\":[\"akdrh\", \"설탕\", \"어쩌구\", \"저쩌구\"],\n",
        "    \"origin\":\"필리핀\"\n",
        "}\n",
        "\n",
        "print(\"name:\", dictionary[\"name\"])\n",
        "print(\"type:\", dictionary[\"type\"])\n",
        "print(\"ingredient:\", dictionary[\"ingredient\"])\n",
        "print(\"origin:\", dictionary[\"origin\"])\n"
      ],
      "metadata": {
        "colab": {
          "base_uri": "https://localhost:8080/"
        },
        "id": "gvZy2RmAqk1o",
        "outputId": "a9b5469e-f8c9-477d-8c20-0eb752ecf94e"
      },
      "execution_count": null,
      "outputs": [
        {
          "output_type": "stream",
          "name": "stdout",
          "text": [
            "name: 건조망고\n",
            "type: sugar\n",
            "ingredient: ['akdrh', '설탕', '어쩌구', '저쩌구']\n",
            "origin: 필리핀\n"
          ]
        }
      ]
    },
    {
      "cell_type": "code",
      "source": [
        "#값을 변경 \n",
        "dictionary[\"name\"]=\"8d건망\"\n",
        "print(\"name:\",dictionary[\"name\"])\n"
      ],
      "metadata": {
        "colab": {
          "base_uri": "https://localhost:8080/"
        },
        "id": "9SCGpuCFrRPN",
        "outputId": "b621d7b8-ed87-4392-c547-9d48e41de28a"
      },
      "execution_count": null,
      "outputs": [
        {
          "output_type": "stream",
          "name": "stdout",
          "text": [
            "name: 8d건망\n"
          ]
        }
      ]
    },
    {
      "cell_type": "code",
      "source": [
        "dictionary[\"ingredient\"]\n",
        "dictionary[\"ingredient\"][0]"
      ],
      "metadata": {
        "colab": {
          "base_uri": "https://localhost:8080/",
          "height": 36
        },
        "id": "WPHx_83UrriB",
        "outputId": "584026e4-9e92-439e-839a-e886e1dda8ca"
      },
      "execution_count": null,
      "outputs": [
        {
          "output_type": "execute_result",
          "data": {
            "application/vnd.google.colaboratory.intrinsic+json": {
              "type": "string"
            },
            "text/plain": [
              "'akdrh'"
            ]
          },
          "metadata": {},
          "execution_count": 17
        }
      ]
    },
    {
      "cell_type": "markdown",
      "source": [
        "#딕셔너리 NameError 오류\n"
      ],
      "metadata": {
        "id": "MNrflKlir7oi"
      }
    },
    {
      "cell_type": "code",
      "source": [
        "dict_key={name: \"건조망고\",\n",
        "          type: \"당절임\" }\n",
        "\n",
        "#변수로 들어갔기 때문에 정의가 되지 않음 키를 표기할 때 \"\" 필수 "
      ],
      "metadata": {
        "colab": {
          "base_uri": "https://localhost:8080/",
          "height": 223
        },
        "id": "il3Sw6uar60S",
        "outputId": "fa6af092-5790-4fe8-8064-69b411ea0492"
      },
      "execution_count": null,
      "outputs": [
        {
          "output_type": "error",
          "ename": "NameError",
          "evalue": "ignored",
          "traceback": [
            "\u001b[0;31m---------------------------------------------------------------------------\u001b[0m",
            "\u001b[0;31mNameError\u001b[0m                                 Traceback (most recent call last)",
            "\u001b[0;32m<ipython-input-18-1873a710f6ee>\u001b[0m in \u001b[0;36m<module>\u001b[0;34m()\u001b[0m\n\u001b[0;32m----> 1\u001b[0;31m dict_key={name: \"건조망고\",\n\u001b[0m\u001b[1;32m      2\u001b[0m           type: \"당절임\" }\n",
            "\u001b[0;31mNameError\u001b[0m: name 'name' is not defined"
          ]
        }
      ]
    },
    {
      "cell_type": "markdown",
      "source": [
        "# 딕셔너리에 값 추가/제거하기"
      ],
      "metadata": {
        "id": "HdOL-IbVs3it"
      }
    },
    {
      "cell_type": "code",
      "source": [
        "dictionary[\"price\"]=5000\n",
        "dictionary"
      ],
      "metadata": {
        "colab": {
          "base_uri": "https://localhost:8080/"
        },
        "id": "lMk726oRs7vJ",
        "outputId": "23d57f01-15c7-4c08-c722-d2f402398667"
      },
      "execution_count": null,
      "outputs": [
        {
          "output_type": "execute_result",
          "data": {
            "text/plain": [
              "{'ingredient': ['akdrh', '설탕', '어쩌구', '저쩌구'],\n",
              " 'name': '8d건망',\n",
              " 'origin': '필리핀',\n",
              " 'price': 5000,\n",
              " 'type': 'sugar'}"
            ]
          },
          "metadata": {},
          "execution_count": 23
        }
      ]
    },
    {
      "cell_type": "code",
      "source": [
        "del dictionary [\"ingredient\"]\n",
        "dictionary"
      ],
      "metadata": {
        "colab": {
          "base_uri": "https://localhost:8080/"
        },
        "id": "dLvFCD2Xtlii",
        "outputId": "6bc53b83-3962-462a-d380-019f5a189c19"
      },
      "execution_count": null,
      "outputs": [
        {
          "output_type": "execute_result",
          "data": {
            "text/plain": [
              "{'name': '8d건망', 'origin': '필리핀', 'price': 5000, 'type': 'sugar'}"
            ]
          },
          "metadata": {},
          "execution_count": 24
        }
      ]
    },
    {
      "cell_type": "code",
      "source": [
        "#딕셔너리 요소추가 \n",
        "\n",
        "dictionary_d={}\n",
        "\n",
        "print(\"요소추가 이전\", dictionary_d)\n",
        "\n",
        "dictionary_d[\"name\"]= \"토리\"\n",
        "dictionary_d[\"몸무게\"]=\"6.0kg\"\n",
        "dictionary_d[\"성별\"]=\"남아\"\n",
        "\n",
        "print(\"요소추가 이후: \", dictionary_d)"
      ],
      "metadata": {
        "colab": {
          "base_uri": "https://localhost:8080/"
        },
        "id": "Ox8XtDoytsYz",
        "outputId": "4cbadc4f-950b-4536-8d1d-51da35fff4ef"
      },
      "execution_count": null,
      "outputs": [
        {
          "output_type": "stream",
          "name": "stdout",
          "text": [
            "요소추가 이전 {}\n",
            "요소추가 이후:  {'name': '토리', '몸무게': '6.0kg', '성별': '남아'}\n"
          ]
        }
      ]
    },
    {
      "cell_type": "code",
      "source": [
        "del dictionary_d[\"key\"]\n",
        "\n",
        "#변수선언된 key가 없음 "
      ],
      "metadata": {
        "colab": {
          "base_uri": "https://localhost:8080/",
          "height": 205
        },
        "id": "hK1kwhBfvNMJ",
        "outputId": "cf336072-2123-4077-a57f-b9563309bc27"
      },
      "execution_count": null,
      "outputs": [
        {
          "output_type": "error",
          "ename": "KeyError",
          "evalue": "ignored",
          "traceback": [
            "\u001b[0;31m---------------------------------------------------------------------------\u001b[0m",
            "\u001b[0;31mKeyError\u001b[0m                                  Traceback (most recent call last)",
            "\u001b[0;32m<ipython-input-35-c500aeed504f>\u001b[0m in \u001b[0;36m<module>\u001b[0;34m()\u001b[0m\n\u001b[0;32m----> 1\u001b[0;31m \u001b[0;32mdel\u001b[0m \u001b[0mdictionary_d\u001b[0m\u001b[0;34m[\u001b[0m\u001b[0;34m\"key\"\u001b[0m\u001b[0;34m]\u001b[0m\u001b[0;34m\u001b[0m\u001b[0;34m\u001b[0m\u001b[0m\n\u001b[0m",
            "\u001b[0;31mKeyError\u001b[0m: 'key'"
          ]
        }
      ]
    },
    {
      "cell_type": "markdown",
      "source": [
        "#딕셔너리 내부에 키가 있는지 확인하기\n",
        "\n",
        "- in 키워드 \n",
        "- get() 함수"
      ],
      "metadata": {
        "id": "9v_x-m8RvnrU"
      }
    },
    {
      "cell_type": "code",
      "source": [
        "dictionary={\n",
        "    \"name\":\"건조망고\",\n",
        "    \"type\": \"sugar\",\n",
        "    \"ingredient\":[\"akdrh\", \"설탕\", \"어쩌구\", \"저쩌구\"],\n",
        "    \"origin\":\"필리핀\"\n",
        "}\n",
        "\n",
        "key=input(\"> 접근하고자 하는 키: \")\n",
        "\n",
        "if key in dictionary:\n",
        "  print(dictionary[key])\n",
        "else:\n",
        "  print(\"존재ㅏ지 않는 키에 접근하고 있습니다\")"
      ],
      "metadata": {
        "colab": {
          "base_uri": "https://localhost:8080/"
        },
        "id": "5yj9ImbJvqnD",
        "outputId": "85181e4a-5b14-4eac-ac7b-3b0dd32b8523"
      },
      "execution_count": null,
      "outputs": [
        {
          "output_type": "stream",
          "name": "stdout",
          "text": [
            "> 접근하고자 하는 키: name\n",
            "건조망고\n"
          ]
        }
      ]
    },
    {
      "cell_type": "code",
      "source": [
        "dictionary={\n",
        "    \"name\":\"건조망고\",\n",
        "    \"type\": \"sugar\",\n",
        "    \"ingredient\":[\"akdrh\", \"설탕\", \"어쩌구\", \"저쩌구\"],\n",
        "    \"origin\":\"필리핀\"\n",
        "}\n",
        "\n",
        "value=dictionary.get(\"존재하지 않는 키\")\n",
        "print(\"값:\", value)\n",
        "\n",
        "if value== None:\n",
        "  print(\"존재하지 않는 키에 접근했습니다\")"
      ],
      "metadata": {
        "colab": {
          "base_uri": "https://localhost:8080/"
        },
        "id": "3XABsooSxNaH",
        "outputId": "4cfb1e53-efcf-4b09-ebba-bf75b5f34f4f"
      },
      "execution_count": null,
      "outputs": [
        {
          "output_type": "stream",
          "name": "stdout",
          "text": [
            "값: None\n",
            "존재하지 않는 키에 접근했습니다\n"
          ]
        }
      ]
    },
    {
      "cell_type": "code",
      "source": [
        "dictionary={\n",
        "    \"name\":\"건조망고\",\n",
        "    \"type\": \"sugar\",\n",
        "    \"ingredient\":[\"akdrh\", \"설탕\", \"어쩌구\", \"저쩌구\"],\n",
        "    \"origin\":\"필리핀\"\n",
        "}\n",
        "\n",
        "value=dictionary.get(\"name\")\n",
        "print(\"값:\", value)\n",
        "\n",
        "if value== None:\n",
        "  print(\"존재하지 않는 키에 접근했습니다\")"
      ],
      "metadata": {
        "colab": {
          "base_uri": "https://localhost:8080/"
        },
        "id": "3bKNIhLOxjI7",
        "outputId": "eebaeb69-edb3-4a55-b4b1-47364f777901"
      },
      "execution_count": null,
      "outputs": [
        {
          "output_type": "stream",
          "name": "stdout",
          "text": [
            "값: 건조망고\n"
          ]
        }
      ]
    },
    {
      "cell_type": "code",
      "source": [
        "dictionary={\n",
        "    \"name\":\"건조망고\",\n",
        "    \"type\": \"sugar\",\n",
        "    \"ingredient\":[\"akdrh\", \"설탕\", \"어쩌구\", \"저쩌구\"],\n",
        "    \"origin\":\"필리핀\"\n",
        "}\n",
        "\n",
        "\n",
        "for key in dictionary:\n",
        "  print(key, \":\", dictionary[key])"
      ],
      "metadata": {
        "colab": {
          "base_uri": "https://localhost:8080/"
        },
        "id": "c7e1ulkbxwzk",
        "outputId": "40fea75f-9010-4516-a10f-672183469c7a"
      },
      "execution_count": null,
      "outputs": [
        {
          "output_type": "stream",
          "name": "stdout",
          "text": [
            "name : 건조망고\n",
            "type : sugar\n",
            "ingredient : ['akdrh', '설탕', '어쩌구', '저쩌구']\n",
            "origin : 필리핀\n"
          ]
        }
      ]
    },
    {
      "cell_type": "markdown",
      "source": [
        "# 확인문제"
      ],
      "metadata": {
        "id": "uCpXu6cG15VB"
      }
    },
    {
      "cell_type": "code",
      "source": [
        "dic_a={}\n",
        "\n",
        "dic_a[\"name\"]=\"구름\"\n",
        "dic_a\n"
      ],
      "metadata": {
        "colab": {
          "base_uri": "https://localhost:8080/"
        },
        "id": "NuR3ngIKzQLZ",
        "outputId": "b19eb76a-6266-4c26-aee1-bc7b78cbd9ef"
      },
      "execution_count": null,
      "outputs": [
        {
          "output_type": "execute_result",
          "data": {
            "text/plain": [
              "{'name': '구름'}"
            ]
          },
          "metadata": {},
          "execution_count": 75
        }
      ]
    },
    {
      "cell_type": "code",
      "source": [
        "# numbers=[1,2,6,8,3,2,1,9,5,4,9,7,2,1,3,5,4,8,9,7,2,3]\n",
        "# counter={}\n",
        "\n",
        "# #넘버 내부에 들어있는 숫자가 몇번 등장하는지를 출력하는 코드 작성\n",
        "# #몇번 등장하는지 알기 위해선 계속해서 숫자를 카운드 해줘야함 \n",
        "# for number in numbers:\n",
        "#   try:counter[number]+=1\n",
        "#   except:counter[number]=1\n",
        "\n",
        "# print(counter)\n"
      ],
      "metadata": {
        "id": "v27t202L1_AH"
      },
      "execution_count": null,
      "outputs": []
    },
    {
      "cell_type": "code",
      "source": [
        "#숫자가 있으면 카운트 숫자가 없으면 새로운 키값추가하고 카운트 초기화\n",
        "\n",
        "numbers=[1,2,6,8,3,2,1,9,5,4,9,7,2,1,3,5,4,8,9,7,2,3]\n",
        "counter={}\n",
        "\n",
        "for number in numbers:\n",
        "    if number in counter:\n",
        "        counter[number] += 1\n",
        "    else:\n",
        "        counter[number] = 1\n",
        "        #number=key, 1은 value\n",
        "\n",
        "\n",
        "print(counter)\n",
        "\n",
        "\n",
        "# numbers = [1,2,6,8,4,3,2,1,9,5,4,9,7,2,1,3,5,4,8,9,7,2,3]\n",
        "# counter = {}\n",
        "# for num in numbers:\n",
        "#   if num not in counter:\n",
        "#     counter[num] = 1\n",
        "#   else:\n",
        "#     counter[num] = counter[num]+1\n",
        "# print(counter)"
      ],
      "metadata": {
        "colab": {
          "base_uri": "https://localhost:8080/"
        },
        "id": "wNUZuebq4-4N",
        "outputId": "7e7f9bb1-f36f-4f2d-8520-fde05c1d61f7"
      },
      "execution_count": null,
      "outputs": [
        {
          "output_type": "stream",
          "name": "stdout",
          "text": [
            "{1: 3, 2: 4, 6: 1, 8: 2, 3: 3, 9: 3, 5: 2, 4: 2, 7: 2}\n"
          ]
        }
      ]
    },
    {
      "cell_type": "code",
      "source": [
        "#dic는 키를 줌 list랑 다름\n",
        "\n",
        "character={\n",
        "    \"name\": \"기사\",\n",
        "    \"level\": 12,\n",
        "    \"items\":{\n",
        "        \"sword\": \"불꽃의 검\",\n",
        "        \"armor\": \"풀풀레이드\"\n",
        "    },\n",
        "    \"skill\": [\"베기\", \"세게베기\", \"아주세게베기\"]\n",
        "}\n",
        "\n",
        "for key in character:\n",
        "  if type(character[key]) == list:\n",
        "    print(type(character[key]))\n",
        "    for item in character[key]:\n",
        "      print(key,\":\",item)\n",
        "  elif type(character[key])==dict:\n",
        "    for item in character[key]:\n",
        "      print(item, \":\", character[key][item])\n",
        "  elif type(character[key])==str: \n",
        "    print(key,\":\",character[key])\n",
        "  elif type(character[key])== int:\n",
        "    print(key,\":\",character[key])"
      ],
      "metadata": {
        "colab": {
          "base_uri": "https://localhost:8080/"
        },
        "id": "6_NdnPkI56Pv",
        "outputId": "e7a10e87-fd27-43a8-90e4-be751e8504b1"
      },
      "execution_count": 271,
      "outputs": [
        {
          "output_type": "stream",
          "name": "stdout",
          "text": [
            "name : 기사\n",
            "level : 12\n",
            "sword : 불꽃의 검\n",
            "armor : 풀풀레이드\n",
            "<class 'list'>\n",
            "skill : 베기\n",
            "skill : 세게베기\n",
            "skill : 아주세게베기\n"
          ]
        }
      ]
    },
    {
      "cell_type": "code",
      "source": [
        "#문제 3 업그레이트 \n",
        "#프린트 결과를 새로운 딕트 변수에 저장하기\n",
        "#dic는 키를 줌 list랑 다름\n",
        "\n",
        "character={\n",
        "    \"name\": \"기사\",\n",
        "    \"level\": 12,\n",
        "    \"items\":{\n",
        "        \"sword\": \"불꽃의 검\",\n",
        "        \"armor\": \"풀풀레이드\"\n",
        "    },\n",
        "    \"skill\": [\"베기\", \"세게베기\", \"아주세게베기\"]\n",
        "    \n",
        "}\n",
        "\n",
        "dict_chars={}\n",
        "for key in character:\n",
        "  if type(character[key]) == list:\n",
        "    cnt=0\n",
        "    for item in character[key]:\n",
        "      cnt=cnt+1\n",
        "      print(key,\":\",item)\n",
        "      dict_chars[key+str(cnt)]=item\n",
        "  elif type(character[key])==dict:\n",
        "    for item in character[key]:\n",
        "      print(item, \":\", character[key][item])\n",
        "      dict_chars[item]=character[key][item]\n",
        "  elif type(character[key])==str: \n",
        "    print(key,\":\",character[key])\n",
        "    dict_chars[key]=character[key]\n",
        "  elif type(character[key])== int:\n",
        "    print(key,\":\",character[key])\n",
        "    dict_chars[key]=character[key]\n",
        "\n",
        "  print(dict_chars)\n",
        "\n"
      ],
      "metadata": {
        "colab": {
          "base_uri": "https://localhost:8080/"
        },
        "id": "AymtITvjIN28",
        "outputId": "36dab037-8447-4e68-c6f7-fd3d1255695e"
      },
      "execution_count": null,
      "outputs": [
        {
          "output_type": "stream",
          "name": "stdout",
          "text": [
            "name : 기사\n",
            "{'name': '기사'}\n",
            "level : 12\n",
            "{'name': '기사', 'level': 12}\n",
            "sword : 불꽃의 검\n",
            "armor : 풀풀레이드\n",
            "{'name': '기사', 'level': 12, 'sword': '불꽃의 검', 'armor': '풀풀레이드'}\n",
            "skill : 베기\n",
            "skill : 세게베기\n",
            "skill : 아주세게베기\n",
            "{'name': '기사', 'level': 12, 'sword': '불꽃의 검', 'armor': '풀풀레이드', 'skill1': '베기', 'skill2': '세게베기', 'skill3': '아주세게베기'}\n"
          ]
        }
      ]
    },
    {
      "cell_type": "markdown",
      "source": [
        "# 범위 range()\n"
      ],
      "metadata": {
        "id": "h254C1r9iDrM"
      }
    },
    {
      "cell_type": "code",
      "source": [
        "r=range(5)\n",
        "r\n",
        "list(range(5))"
      ],
      "metadata": {
        "colab": {
          "base_uri": "https://localhost:8080/"
        },
        "id": "g-aUmv21iBNU",
        "outputId": "1ed36971-4fea-4f43-f057-00489f32f9ec"
      },
      "execution_count": null,
      "outputs": [
        {
          "output_type": "execute_result",
          "data": {
            "text/plain": [
              "[0, 1, 2, 3, 4]"
            ]
          },
          "metadata": {},
          "execution_count": 170
        }
      ]
    },
    {
      "cell_type": "code",
      "source": [
        "list(range(5,10))"
      ],
      "metadata": {
        "colab": {
          "base_uri": "https://localhost:8080/"
        },
        "id": "BpXsRuAgjpMl",
        "outputId": "28bf0325-d5f3-4768-8c3a-789b5dd014c4"
      },
      "execution_count": null,
      "outputs": [
        {
          "output_type": "execute_result",
          "data": {
            "text/plain": [
              "[5, 6, 7, 8, 9]"
            ]
          },
          "metadata": {},
          "execution_count": 172
        }
      ]
    },
    {
      "cell_type": "code",
      "source": [
        "list(range(0,10,2))"
      ],
      "metadata": {
        "colab": {
          "base_uri": "https://localhost:8080/"
        },
        "id": "501pQiVljwq4",
        "outputId": "2caecafc-d233-4165-d117-3605ae107cb1"
      },
      "execution_count": null,
      "outputs": [
        {
          "output_type": "execute_result",
          "data": {
            "text/plain": [
              "[0, 2, 4, 6, 8]"
            ]
          },
          "metadata": {},
          "execution_count": 173
        }
      ]
    },
    {
      "cell_type": "code",
      "source": [
        "n=10\n",
        "m=range(0, n/2)\n",
        "#매개변수로 나눗셈을 사용한 경우 오류 발생 "
      ],
      "metadata": {
        "colab": {
          "base_uri": "https://localhost:8080/",
          "height": 241
        },
        "id": "wfWQigOtj03x",
        "outputId": "4746c30e-7689-4135-bb37-4c5556b9974c"
      },
      "execution_count": null,
      "outputs": [
        {
          "output_type": "error",
          "ename": "TypeError",
          "evalue": "ignored",
          "traceback": [
            "\u001b[0;31m---------------------------------------------------------------------------\u001b[0m",
            "\u001b[0;31mTypeError\u001b[0m                                 Traceback (most recent call last)",
            "\u001b[0;32m<ipython-input-174-c5dfe86b7745>\u001b[0m in \u001b[0;36m<module>\u001b[0;34m()\u001b[0m\n\u001b[1;32m      1\u001b[0m \u001b[0mn\u001b[0m\u001b[0;34m=\u001b[0m\u001b[0;36m10\u001b[0m\u001b[0;34m\u001b[0m\u001b[0;34m\u001b[0m\u001b[0m\n\u001b[0;32m----> 2\u001b[0;31m \u001b[0mm\u001b[0m\u001b[0;34m=\u001b[0m\u001b[0mrange\u001b[0m\u001b[0;34m(\u001b[0m\u001b[0;36m0\u001b[0m\u001b[0;34m,\u001b[0m \u001b[0mn\u001b[0m\u001b[0;34m/\u001b[0m\u001b[0;36m2\u001b[0m\u001b[0;34m)\u001b[0m\u001b[0;34m\u001b[0m\u001b[0;34m\u001b[0m\u001b[0m\n\u001b[0m\u001b[1;32m      3\u001b[0m \u001b[0;31m#매개변수로 나눗셈을 사용한 경우 오류 발생\u001b[0m\u001b[0;34m\u001b[0m\u001b[0;34m\u001b[0m\u001b[0;34m\u001b[0m\u001b[0m\n",
            "\u001b[0;31mTypeError\u001b[0m: 'float' object cannot be interpreted as an integer"
          ]
        }
      ]
    },
    {
      "cell_type": "code",
      "source": [
        "n=10\n",
        "m=range(0, int(n/2))\n",
        "list(m)"
      ],
      "metadata": {
        "colab": {
          "base_uri": "https://localhost:8080/"
        },
        "id": "8eYdO7Ecj_NX",
        "outputId": "f413e78e-3bab-4033-e373-ea774842b083"
      },
      "execution_count": null,
      "outputs": [
        {
          "output_type": "execute_result",
          "data": {
            "text/plain": [
              "[0, 1, 2, 3, 4]"
            ]
          },
          "metadata": {},
          "execution_count": 176
        }
      ]
    },
    {
      "cell_type": "code",
      "source": [
        "m=range(0, n//2)\n",
        "list(m)\n",
        "#w정수 나누기 연산자는 가넝 176줄같은 코드(실수를 정수로 바꾸는 방법)보다 나누기 연산자를 더 많이 사용"
      ],
      "metadata": {
        "colab": {
          "base_uri": "https://localhost:8080/"
        },
        "id": "XIu5i_iVkHOl",
        "outputId": "87adc27a-ef5d-4153-ab3a-06a8fdfab7d5"
      },
      "execution_count": null,
      "outputs": [
        {
          "output_type": "execute_result",
          "data": {
            "text/plain": [
              "[0, 1, 2, 3, 4]"
            ]
          },
          "metadata": {},
          "execution_count": 179
        }
      ]
    },
    {
      "cell_type": "markdown",
      "source": [
        "#for 반복문"
      ],
      "metadata": {
        "id": "Um75c1k3kfFC"
      }
    },
    {
      "cell_type": "code",
      "source": [
        "for i in range(5):\n",
        "  print(str(i)+\"=반복변수\") \n",
        "print()\n",
        "\n",
        "for i in range(5, 10):\n",
        "  print(str(i)+\"=반복변수\")\n",
        "\n",
        "\n",
        "for i in range(0, 10, 3):\n",
        "  print(str(i)+\"=반복변수\")"
      ],
      "metadata": {
        "colab": {
          "base_uri": "https://localhost:8080/"
        },
        "id": "1iEUHPWxkeVo",
        "outputId": "7dfb7e89-1132-4dcf-cd9d-061294379458"
      },
      "execution_count": null,
      "outputs": [
        {
          "output_type": "stream",
          "name": "stdout",
          "text": [
            "0=반복변수\n",
            "1=반복변수\n",
            "2=반복변수\n",
            "3=반복변수\n",
            "4=반복변수\n",
            "\n",
            "5=반복변수\n",
            "6=반복변수\n",
            "7=반복변수\n",
            "8=반복변수\n",
            "9=반복변수\n",
            "0=반복변수\n",
            "3=반복변수\n",
            "6=반복변수\n",
            "9=반복변수\n"
          ]
        }
      ]
    },
    {
      "cell_type": "code",
      "source": [
        "array=[273,324,565,343,33]\n",
        "for element in array:\n",
        "  print(element)\n",
        "\n",
        "\n",
        "  "
      ],
      "metadata": {
        "colab": {
          "base_uri": "https://localhost:8080/"
        },
        "id": "1Rl5VwB2k14H",
        "outputId": "c08fbffb-5778-4055-e122-3903e7d1ecbe"
      },
      "execution_count": null,
      "outputs": [
        {
          "output_type": "stream",
          "name": "stdout",
          "text": [
            "273\n",
            "324\n",
            "565\n",
            "343\n",
            "33\n"
          ]
        }
      ]
    },
    {
      "cell_type": "code",
      "source": [
        "array=[273,324,565,343,33]\n",
        "for i in range(len(array)):\n",
        "  print(\"{}번째 반복:{}\".format(i, array[i]))\n",
        "\n"
      ],
      "metadata": {
        "colab": {
          "base_uri": "https://localhost:8080/"
        },
        "id": "O47-iHs9lReq",
        "outputId": "26a972ec-848d-4a2b-df27-6d24c9c05555"
      },
      "execution_count": null,
      "outputs": [
        {
          "output_type": "stream",
          "name": "stdout",
          "text": [
            "0번째 반복:273\n",
            "1번째 반복:324\n",
            "2번째 반복:565\n",
            "3번째 반복:343\n",
            "4번째 반복:33\n"
          ]
        }
      ]
    },
    {
      "cell_type": "code",
      "source": [
        "for i in range(4, -1, -1):\n",
        "  print(\"현재 반복변수:{}\".format(i))"
      ],
      "metadata": {
        "colab": {
          "base_uri": "https://localhost:8080/"
        },
        "id": "f3kvg_Hql6n-",
        "outputId": "ec894171-cd5c-4c7b-da4f-35a107086f39"
      },
      "execution_count": null,
      "outputs": [
        {
          "output_type": "stream",
          "name": "stdout",
          "text": [
            "현재 반복변수:4\n",
            "현재 반복변수:3\n",
            "현재 반복변수:2\n",
            "현재 반복변수:1\n",
            "현재 반복변수:0\n"
          ]
        }
      ]
    },
    {
      "cell_type": "code",
      "source": [
        "#reverse 함수\n",
        "\n",
        "for i in reversed(range(5)):\n",
        "  print(\"현재반복변수:{}\".format(i))"
      ],
      "metadata": {
        "colab": {
          "base_uri": "https://localhost:8080/"
        },
        "id": "mospG0fOmDUw",
        "outputId": "99a73609-4993-49ac-f71e-0189f25b2b5c"
      },
      "execution_count": null,
      "outputs": [
        {
          "output_type": "stream",
          "name": "stdout",
          "text": [
            "현재반복변수:4\n",
            "현재반복변수:3\n",
            "현재반복변수:2\n",
            "현재반복변수:1\n",
            "현재반복변수:0\n"
          ]
        }
      ]
    },
    {
      "cell_type": "markdown",
      "source": [
        "#while 반복문\n",
        "##리스트 내부 요소 있는지 판단하여 반복"
      ],
      "metadata": {
        "id": "RNYY_0Wyox-M"
      }
    },
    {
      "cell_type": "code",
      "source": [
        "while True:\n",
        "  print(\".\", end=\"\")"
      ],
      "metadata": {
        "colab": {
          "base_uri": "https://localhost:8080/",
          "height": 446
        },
        "id": "SNDTsrFHmMKE",
        "outputId": "e7509ae1-44c8-4b65-f0f8-6915952d25c1"
      },
      "execution_count": null,
      "outputs": [
        {
          "output_type": "stream",
          "name": "stdout",
          "text": [
            "............................................................................................................................................................................................................................................................................................................................................................................................................................................................................................................................................................................................................................................................................................................................................................................................................................................................................................................................................................................................................................................................................................................................................................................................................................................................................................................................................................................................................................................................................................................................................................................................................................................................................................................................................................................................................................................................................................................................................................................................................................................................................................................................................................................................................................................................................................................................................................................................................................................................................................................................................................................................................................................................................................................................................................................................................................................................................................................................................................................................................................................................................................................................................................................................................................................................................................................................................................................................................................................................................................................................................................................................................................................................................................................................................................................................................................................................................................................................................................................................................................................................................................................................................................................................................................................................................................................................................................................................................................................................................................................................................................................................................................................................................................................................................................................................................................................................................................................................................................................................................................................................................................................................................................................................................................................................................................................................................................................................................................................................................................................................................................................................................................................................................................................................................................................................................................................................................................................................................................................................................................................................................................................................................................................................................................................................................................................................................................................................................................................................................................................................................................................................................................................................................................................................................................................................................................................................................................................................................................................................................................................................................................................................................................................................................................................................................................................................................................................................................................................................................................................................................................................................................................................................................................................................................................................................................................................................................................................................................................................................................................................................................................................................................................................................................................................................................................................................................................................................................................................................................................................................................................................................................................................................................................................................................................................................................................................................................................................................................................................................................................................................................................................................................................................................................................................................................................................................................................................................................................................................................................................................................................................................................................................................................................................................................................................................................................................................................................................................................................................................................................................................................................................................................................................................................................................................................................................................................................................................................................................................................................................................................................................................................................................................................................................................................................................................................................................................................................................................................................................................................................................................................................................................................................................................................................................................................................................................................................................................................................................................................................................................................................................................................................................................................................................................................................................................................................................................................................................................................................................................................................................................................................................................................................................................................................................................................................................................................................................................................................................................................................................................................................................................................................................................................................................................................................................................................................................................................................................................................................................................................................................................................................................................................................................................................................................................................................................................................................................................................................................................................................................................................................................................................................................................................................................................................................................................................................................................................................................................................................................................................................................................................................................................................................................................................................................................................................................................................................................................................................................................................................................................................................................................................................................................................................................................................................................................................................................................................................................................................................................................................................................................................................................................................................................................................................................................................................................................................................................................................................................................................................................................................................................................................................................................................................................................................................................................................................................................................................................................................................................................................................................................................................................................................................................................................................................................................................................................................................................................................................................................................................................................................................................................................................................................................................................................................................................................................................................................................................................................................................................................................................................................................................................................................................................................................................................................................................................................................................................................................................................................................................................................................................................................................................................................................................................................................................................................................................................................................................................................................................................................................................................................................................................................................................................................................................................................................................................................................................................................................................................................................................................................................................................................................................................................................................................................................................................................................................................................................................................................................................................................................................................................................................................................................................................................................................................................................................................................................................................................................................................................................................................................................................................................................................................................................................................................................................................................................................................................................................................................................................................................................................................................................................................................................................................................................................................................................................................................................................................................................................................................................................................................................................................................................................................................................................................................................................................................................................................................................................................................................................................................................................................................................................................................................................................................................................................................................................................................................................................................................................................................................................................................................................................................................................................................................................................................................................................................................................................................................................................................................................................................................................................................................................................................................................................................................................................................................................................................................................................................................................................................................................................................................................................................................................................................................................................................................................................................................................................................................................................................................................................................................................................................................................................................................................................................................................................................................................................................................................................................................................................................................................................................................................................................................................................................................................................................................................................................................................................................................................................................................................................................................................................................................................................................................................................................................................................................................................................................................................................................................................................................................................................................................................................................................................................................................................................................................................................................................................................................................................................................................................................................................................................................................................................................................................................................................................................................................................................................................................................................................................................................................................................................................................................................................................................................................................................................................................................................................................................................................................................................................................................................................................................................................................................................................................................................................................................................................................................................................................................................................................................................................................................................................................................................................................................................................................................................................................................................................................................................................................................................................................................................................................................................................................................................................................................................................................................................................................................................................................................................................................................................................................................................................................................................................................................................................................................................................................................................................................................................................................................................................................................................................................................................................................................................................................................................................................................................................................................................................................................................................................................................................................................................................................................................................................................................................................................................................................................................................................................................................................................................................................................................................................................................................................................................................................................................................................................................................................................................................................................................................................................................................................................................................................................................................................................................................................................................................................................................................................................................................................................................................................................................................................................................................................................................................................................................................................................................................................................................................................................................................................................................................................................................................................................................................................................................................................................................................................................................................................................................................................................................................................................................................................................................................................................................................................................................................................................................................................................................................................................................................................................................................................................................................................................................."
          ]
        },
        {
          "output_type": "error",
          "ename": "KeyboardInterrupt",
          "evalue": "ignored",
          "traceback": [
            "\u001b[0;31m---------------------------------------------------------------------------\u001b[0m",
            "\u001b[0;31mKeyboardInterrupt\u001b[0m                         Traceback (most recent call last)",
            "\u001b[0;32m<ipython-input-192-25ebd8313e44>\u001b[0m in \u001b[0;36m<module>\u001b[0;34m()\u001b[0m\n\u001b[1;32m      1\u001b[0m \u001b[0;32mwhile\u001b[0m \u001b[0;32mTrue\u001b[0m\u001b[0;34m:\u001b[0m\u001b[0;34m\u001b[0m\u001b[0;34m\u001b[0m\u001b[0m\n\u001b[0;32m----> 2\u001b[0;31m   \u001b[0mprint\u001b[0m\u001b[0;34m(\u001b[0m\u001b[0;34m\".\"\u001b[0m\u001b[0;34m,\u001b[0m \u001b[0mend\u001b[0m\u001b[0;34m=\u001b[0m\u001b[0;34m\"\"\u001b[0m\u001b[0;34m)\u001b[0m\u001b[0;34m\u001b[0m\u001b[0;34m\u001b[0m\u001b[0m\n\u001b[0m",
            "\u001b[0;32m/usr/local/lib/python3.7/dist-packages/ipykernel/iostream.py\u001b[0m in \u001b[0;36mwrite\u001b[0;34m(self, string)\u001b[0m\n\u001b[1;32m    398\u001b[0m             \u001b[0mis_child\u001b[0m \u001b[0;34m=\u001b[0m \u001b[0;34m(\u001b[0m\u001b[0;32mnot\u001b[0m \u001b[0mself\u001b[0m\u001b[0;34m.\u001b[0m\u001b[0m_is_master_process\u001b[0m\u001b[0;34m(\u001b[0m\u001b[0;34m)\u001b[0m\u001b[0;34m)\u001b[0m\u001b[0;34m\u001b[0m\u001b[0;34m\u001b[0m\u001b[0m\n\u001b[1;32m    399\u001b[0m             \u001b[0;31m# only touch the buffer in the IO thread to avoid races\u001b[0m\u001b[0;34m\u001b[0m\u001b[0;34m\u001b[0m\u001b[0;34m\u001b[0m\u001b[0m\n\u001b[0;32m--> 400\u001b[0;31m             \u001b[0mself\u001b[0m\u001b[0;34m.\u001b[0m\u001b[0mpub_thread\u001b[0m\u001b[0;34m.\u001b[0m\u001b[0mschedule\u001b[0m\u001b[0;34m(\u001b[0m\u001b[0;32mlambda\u001b[0m \u001b[0;34m:\u001b[0m \u001b[0mself\u001b[0m\u001b[0;34m.\u001b[0m\u001b[0m_buffer\u001b[0m\u001b[0;34m.\u001b[0m\u001b[0mwrite\u001b[0m\u001b[0;34m(\u001b[0m\u001b[0mstring\u001b[0m\u001b[0;34m)\u001b[0m\u001b[0;34m)\u001b[0m\u001b[0;34m\u001b[0m\u001b[0;34m\u001b[0m\u001b[0m\n\u001b[0m\u001b[1;32m    401\u001b[0m             \u001b[0;32mif\u001b[0m \u001b[0mis_child\u001b[0m\u001b[0;34m:\u001b[0m\u001b[0;34m\u001b[0m\u001b[0;34m\u001b[0m\u001b[0m\n\u001b[1;32m    402\u001b[0m                 \u001b[0;31m# newlines imply flush in subprocesses\u001b[0m\u001b[0;34m\u001b[0m\u001b[0;34m\u001b[0m\u001b[0;34m\u001b[0m\u001b[0m\n",
            "\u001b[0;32m/usr/local/lib/python3.7/dist-packages/ipykernel/iostream.py\u001b[0m in \u001b[0;36mschedule\u001b[0;34m(self, f)\u001b[0m\n\u001b[1;32m    201\u001b[0m             \u001b[0mself\u001b[0m\u001b[0;34m.\u001b[0m\u001b[0m_events\u001b[0m\u001b[0;34m.\u001b[0m\u001b[0mappend\u001b[0m\u001b[0;34m(\u001b[0m\u001b[0mf\u001b[0m\u001b[0;34m)\u001b[0m\u001b[0;34m\u001b[0m\u001b[0;34m\u001b[0m\u001b[0m\n\u001b[1;32m    202\u001b[0m             \u001b[0;31m# wake event thread (message content is ignored)\u001b[0m\u001b[0;34m\u001b[0m\u001b[0;34m\u001b[0m\u001b[0;34m\u001b[0m\u001b[0m\n\u001b[0;32m--> 203\u001b[0;31m             \u001b[0mself\u001b[0m\u001b[0;34m.\u001b[0m\u001b[0m_event_pipe\u001b[0m\u001b[0;34m.\u001b[0m\u001b[0msend\u001b[0m\u001b[0;34m(\u001b[0m\u001b[0;34mb''\u001b[0m\u001b[0;34m)\u001b[0m\u001b[0;34m\u001b[0m\u001b[0;34m\u001b[0m\u001b[0m\n\u001b[0m\u001b[1;32m    204\u001b[0m         \u001b[0;32melse\u001b[0m\u001b[0;34m:\u001b[0m\u001b[0;34m\u001b[0m\u001b[0;34m\u001b[0m\u001b[0m\n\u001b[1;32m    205\u001b[0m             \u001b[0mf\u001b[0m\u001b[0;34m(\u001b[0m\u001b[0;34m)\u001b[0m\u001b[0;34m\u001b[0m\u001b[0;34m\u001b[0m\u001b[0m\n",
            "\u001b[0;32m/usr/local/lib/python3.7/dist-packages/zmq/sugar/socket.py\u001b[0m in \u001b[0;36msend\u001b[0;34m(self, data, flags, copy, track, routing_id, group)\u001b[0m\n\u001b[1;32m    545\u001b[0m                 )\n\u001b[1;32m    546\u001b[0m             \u001b[0mdata\u001b[0m\u001b[0;34m.\u001b[0m\u001b[0mgroup\u001b[0m \u001b[0;34m=\u001b[0m \u001b[0mgroup\u001b[0m\u001b[0;34m\u001b[0m\u001b[0;34m\u001b[0m\u001b[0m\n\u001b[0;32m--> 547\u001b[0;31m         \u001b[0;32mreturn\u001b[0m \u001b[0msuper\u001b[0m\u001b[0;34m(\u001b[0m\u001b[0mSocket\u001b[0m\u001b[0;34m,\u001b[0m \u001b[0mself\u001b[0m\u001b[0;34m)\u001b[0m\u001b[0;34m.\u001b[0m\u001b[0msend\u001b[0m\u001b[0;34m(\u001b[0m\u001b[0mdata\u001b[0m\u001b[0;34m,\u001b[0m \u001b[0mflags\u001b[0m\u001b[0;34m=\u001b[0m\u001b[0mflags\u001b[0m\u001b[0;34m,\u001b[0m \u001b[0mcopy\u001b[0m\u001b[0;34m=\u001b[0m\u001b[0mcopy\u001b[0m\u001b[0;34m,\u001b[0m \u001b[0mtrack\u001b[0m\u001b[0;34m=\u001b[0m\u001b[0mtrack\u001b[0m\u001b[0;34m)\u001b[0m\u001b[0;34m\u001b[0m\u001b[0;34m\u001b[0m\u001b[0m\n\u001b[0m\u001b[1;32m    548\u001b[0m \u001b[0;34m\u001b[0m\u001b[0m\n\u001b[1;32m    549\u001b[0m     \u001b[0;32mdef\u001b[0m \u001b[0msend_multipart\u001b[0m\u001b[0;34m(\u001b[0m\u001b[0mself\u001b[0m\u001b[0;34m,\u001b[0m \u001b[0mmsg_parts\u001b[0m\u001b[0;34m,\u001b[0m \u001b[0mflags\u001b[0m\u001b[0;34m=\u001b[0m\u001b[0;36m0\u001b[0m\u001b[0;34m,\u001b[0m \u001b[0mcopy\u001b[0m\u001b[0;34m=\u001b[0m\u001b[0;32mTrue\u001b[0m\u001b[0;34m,\u001b[0m \u001b[0mtrack\u001b[0m\u001b[0;34m=\u001b[0m\u001b[0;32mFalse\u001b[0m\u001b[0;34m,\u001b[0m \u001b[0;34m**\u001b[0m\u001b[0mkwargs\u001b[0m\u001b[0;34m)\u001b[0m\u001b[0;34m:\u001b[0m\u001b[0;34m\u001b[0m\u001b[0;34m\u001b[0m\u001b[0m\n",
            "\u001b[0;32mzmq/backend/cython/socket.pyx\u001b[0m in \u001b[0;36mzmq.backend.cython.socket.Socket.send\u001b[0;34m()\u001b[0m\n",
            "\u001b[0;32mzmq/backend/cython/socket.pyx\u001b[0m in \u001b[0;36mzmq.backend.cython.socket.Socket.send\u001b[0;34m()\u001b[0m\n",
            "\u001b[0;32mzmq/backend/cython/socket.pyx\u001b[0m in \u001b[0;36mzmq.backend.cython.socket._send_copy\u001b[0;34m()\u001b[0m\n",
            "\u001b[0;32m/usr/local/lib/python3.7/dist-packages/zmq/backend/cython/checkrc.pxd\u001b[0m in \u001b[0;36mzmq.backend.cython.checkrc._check_rc\u001b[0;34m()\u001b[0m\n",
            "\u001b[0;31mKeyboardInterrupt\u001b[0m: "
          ]
        }
      ]
    },
    {
      "cell_type": "code",
      "source": [
        "i=0\n",
        "while i <10:\n",
        "  print(\"{}번째 반복입니다.\".format(i))\n",
        "  i+=1\n"
      ],
      "metadata": {
        "colab": {
          "base_uri": "https://localhost:8080/"
        },
        "id": "tgX5VKEDmStW",
        "outputId": "2ed64dc5-b028-4bab-fc2c-942ebfb598cb"
      },
      "execution_count": 200,
      "outputs": [
        {
          "output_type": "stream",
          "name": "stdout",
          "text": [
            "0번째 반복입니다.\n",
            "3번째 반복입니다.\n",
            "6번째 반복입니다.\n",
            "9번째 반복입니다.\n"
          ]
        }
      ]
    },
    {
      "cell_type": "code",
      "source": [
        "list_test=[12,1,2,21,2,2,2,1,2,1,2,1,2]\n",
        "value=1\n",
        "\n",
        "while value in list_test:\n",
        "  list_test.remove(value)\n",
        "  print(list_test)\n",
        "  print(\"=\"*50)\n",
        "print(list_test)"
      ],
      "metadata": {
        "colab": {
          "base_uri": "https://localhost:8080/"
        },
        "id": "iE6dAwN0oGiI",
        "outputId": "6573d64a-3446-48c7-a34f-b56ccec201bc"
      },
      "execution_count": 206,
      "outputs": [
        {
          "output_type": "stream",
          "name": "stdout",
          "text": [
            "[12, 2, 21, 2, 2, 2, 1, 2, 1, 2, 1, 2]\n",
            "==================================================\n",
            "[12, 2, 21, 2, 2, 2, 2, 1, 2, 1, 2]\n",
            "==================================================\n",
            "[12, 2, 21, 2, 2, 2, 2, 2, 1, 2]\n",
            "==================================================\n",
            "[12, 2, 21, 2, 2, 2, 2, 2, 2]\n",
            "==================================================\n",
            "[12, 2, 21, 2, 2, 2, 2, 2, 2]\n"
          ]
        }
      ]
    },
    {
      "cell_type": "code",
      "source": [
        "#시간을 기반으로 반복하기 \n",
        "\n",
        "import time\n",
        "time.time()"
      ],
      "metadata": {
        "colab": {
          "base_uri": "https://localhost:8080/"
        },
        "id": "GPkzFMZ1r7uH",
        "outputId": "8d5008b3-61f7-447e-8b98-f4b66cc64329"
      },
      "execution_count": 207,
      "outputs": [
        {
          "output_type": "execute_result",
          "data": {
            "text/plain": [
              "1646376864.1536593"
            ]
          },
          "metadata": {},
          "execution_count": 207
        }
      ]
    },
    {
      "cell_type": "code",
      "source": [
        "import time\n",
        "number=0\n",
        "\n",
        "target_tick=time.time()+5\n",
        "print(target_tick)\n",
        "while time.time()<target_tick:\n",
        "  number+=1\n",
        "\n",
        "print(\"5초동안 {}번 반복했습니다\".format(number))"
      ],
      "metadata": {
        "colab": {
          "base_uri": "https://localhost:8080/"
        },
        "id": "Z_XAT5QXtVyC",
        "outputId": "51671242-db50-4e2e-8e50-d92a550fc871"
      },
      "execution_count": 215,
      "outputs": [
        {
          "output_type": "stream",
          "name": "stdout",
          "text": [
            "1646377367.1274958\n",
            "5초동안 21497544번 반복했습니다\n"
          ]
        }
      ]
    },
    {
      "cell_type": "code",
      "source": [
        "#break 키워드 \n",
        "\n",
        "i=0\n",
        "\n",
        "while True:\n",
        "  print(\"{}번째 반복문입니다.\".format(i))\n",
        "  i=i+1\n",
        "\n",
        "  input_text=input(\">종료하시겠습니까?(y): \")\n",
        "  if input_text in[\"y\", \"Y\"]:\n",
        "    print(\"반복을 종료합니다.\")\n",
        "    break"
      ],
      "metadata": {
        "colab": {
          "base_uri": "https://localhost:8080/"
        },
        "id": "keDRLDectqm7",
        "outputId": "11c5bb9e-ac89-4ef6-de0c-3ff2bdfd8187"
      },
      "execution_count": 217,
      "outputs": [
        {
          "output_type": "stream",
          "name": "stdout",
          "text": [
            "0번째 반복문입니다.\n",
            ">종료하시겠습니까?(y): d\n",
            "1번째 반복문입니다.\n",
            ">종료하시겠습니까?(y): y\n",
            "반복을 종료합니다.\n"
          ]
        }
      ]
    },
    {
      "cell_type": "code",
      "source": [
        "#continue 키워드 \n",
        "\n",
        "numbers=[5,15,6,20,7,45]\n",
        "\n",
        "for number in numbers:\n",
        "  if number<10:\n",
        "    continue\n",
        "\n",
        "  print(number)"
      ],
      "metadata": {
        "colab": {
          "base_uri": "https://localhost:8080/"
        },
        "id": "gIpoR-P_uInG",
        "outputId": "34447278-378d-4d09-e74b-e3b9045392c3"
      },
      "execution_count": 210,
      "outputs": [
        {
          "output_type": "stream",
          "name": "stdout",
          "text": [
            "15\n",
            "20\n",
            "45\n"
          ]
        }
      ]
    },
    {
      "cell_type": "code",
      "source": [
        "numbers=[5,15,6,20,7,45]\n",
        "\n",
        "for noumber in numbers: \n",
        "  if noumber >=10:\n",
        "    print(noumber)\n"
      ],
      "metadata": {
        "colab": {
          "base_uri": "https://localhost:8080/"
        },
        "id": "9IhIxXT3uToX",
        "outputId": "ebb677cf-e2b5-478f-f99a-3cbda56a91f2"
      },
      "execution_count": 211,
      "outputs": [
        {
          "output_type": "stream",
          "name": "stdout",
          "text": [
            "15\n",
            "20\n",
            "45\n"
          ]
        }
      ]
    },
    {
      "cell_type": "markdown",
      "source": [
        "#확인문제"
      ],
      "metadata": {
        "id": "xML2Xi1jwUz9"
      }
    },
    {
      "cell_type": "code",
      "source": [
        "key_list=[\"name\",\"hp\", \"mp\", \"level\"]\n",
        "value_list=[\"기사\", 200, 30, 5]\n",
        "charac={}\n",
        "i=0\n",
        "#keylist와 valuelist를 딕셔너리로 변경한 다음 합침  \n",
        "#만약 키 리스트가 타입 리스트일 경우 딕셔너리로 변경, value list도 리트스일 경우 딕셔너리로 변경 그 후 값따로 도출 \n",
        "\n",
        "for key in key_list:\n",
        "  print(key)\n",
        "  print(i)\n",
        "  charac[key]=value_list[i]\n",
        "  i+=1\n",
        "  \n",
        "\n",
        "\n",
        "\n",
        "print(charac)\n"
      ],
      "metadata": {
        "colab": {
          "base_uri": "https://localhost:8080/"
        },
        "id": "MFKg1FzGwTlu",
        "outputId": "79cdfb56-2ee1-45d0-a13a-9a6184ae05f1"
      },
      "execution_count": 298,
      "outputs": [
        {
          "output_type": "stream",
          "name": "stdout",
          "text": [
            "name\n",
            "0\n",
            "hp\n",
            "1\n",
            "mp\n",
            "2\n",
            "level\n",
            "3\n",
            "{'name': '기사', 'hp': 200, 'mp': 30, 'level': 5}\n"
          ]
        }
      ]
    },
    {
      "cell_type": "code",
      "source": [
        "#1부터 숫자를 하나씩 증가시키면서 더하는 경우를 생각해 봅시다. 몇을 더할 때 1000을 넘는지 구해 보세요. \n",
        "#그리고 그때의 값도 출력해보세요. 다음은 1000이 넘는 경우를 구한 예입니다.\n",
        "\n",
        "limit=10000\n",
        "i=1\n",
        "sum_value= 0#누적합을 저장하는 변수\n",
        "\n",
        "while sum_value < limit: \n",
        "  #누적된 갯수의 합이 10000이 넘어야 하기 때문에 변수는 sum_value\n",
        "  # 반복되는 수를 더하기 반복할때마다 1씩 증가,\n",
        "  print(i)\n",
        "  sum_value=sum_value+i\n",
        "  print(sum_value)\n",
        "  print(\"-\"*50)\n",
        "\n",
        "\n",
        "\n",
        "  i=i+1\n",
        "\n",
        "\n",
        "\n",
        "print(\"{}를 더할 때 {}를 넘으며 그떄의 값은 {}입니다.\".format(i, limit, sum_value))\n"
      ],
      "metadata": {
        "colab": {
          "base_uri": "https://localhost:8080/"
        },
        "id": "AvPC_uQdwx30",
        "outputId": "939f9439-519f-4416-d46d-7ab088725621"
      },
      "execution_count": 303,
      "outputs": [
        {
          "output_type": "stream",
          "name": "stdout",
          "text": [
            "1\n",
            "1\n",
            "--------------------------------------------------\n",
            "2\n",
            "3\n",
            "--------------------------------------------------\n",
            "3\n",
            "6\n",
            "--------------------------------------------------\n",
            "4\n",
            "10\n",
            "--------------------------------------------------\n",
            "5\n",
            "15\n",
            "--------------------------------------------------\n",
            "6\n",
            "21\n",
            "--------------------------------------------------\n",
            "7\n",
            "28\n",
            "--------------------------------------------------\n",
            "8\n",
            "36\n",
            "--------------------------------------------------\n",
            "9\n",
            "45\n",
            "--------------------------------------------------\n",
            "10\n",
            "55\n",
            "--------------------------------------------------\n",
            "11\n",
            "66\n",
            "--------------------------------------------------\n",
            "12\n",
            "78\n",
            "--------------------------------------------------\n",
            "13\n",
            "91\n",
            "--------------------------------------------------\n",
            "14\n",
            "105\n",
            "--------------------------------------------------\n",
            "15\n",
            "120\n",
            "--------------------------------------------------\n",
            "16\n",
            "136\n",
            "--------------------------------------------------\n",
            "17\n",
            "153\n",
            "--------------------------------------------------\n",
            "18\n",
            "171\n",
            "--------------------------------------------------\n",
            "19\n",
            "190\n",
            "--------------------------------------------------\n",
            "20\n",
            "210\n",
            "--------------------------------------------------\n",
            "21\n",
            "231\n",
            "--------------------------------------------------\n",
            "22\n",
            "253\n",
            "--------------------------------------------------\n",
            "23\n",
            "276\n",
            "--------------------------------------------------\n",
            "24\n",
            "300\n",
            "--------------------------------------------------\n",
            "25\n",
            "325\n",
            "--------------------------------------------------\n",
            "26\n",
            "351\n",
            "--------------------------------------------------\n",
            "27\n",
            "378\n",
            "--------------------------------------------------\n",
            "28\n",
            "406\n",
            "--------------------------------------------------\n",
            "29\n",
            "435\n",
            "--------------------------------------------------\n",
            "30\n",
            "465\n",
            "--------------------------------------------------\n",
            "31\n",
            "496\n",
            "--------------------------------------------------\n",
            "32\n",
            "528\n",
            "--------------------------------------------------\n",
            "33\n",
            "561\n",
            "--------------------------------------------------\n",
            "34\n",
            "595\n",
            "--------------------------------------------------\n",
            "35\n",
            "630\n",
            "--------------------------------------------------\n",
            "36\n",
            "666\n",
            "--------------------------------------------------\n",
            "37\n",
            "703\n",
            "--------------------------------------------------\n",
            "38\n",
            "741\n",
            "--------------------------------------------------\n",
            "39\n",
            "780\n",
            "--------------------------------------------------\n",
            "40\n",
            "820\n",
            "--------------------------------------------------\n",
            "41\n",
            "861\n",
            "--------------------------------------------------\n",
            "42\n",
            "903\n",
            "--------------------------------------------------\n",
            "43\n",
            "946\n",
            "--------------------------------------------------\n",
            "44\n",
            "990\n",
            "--------------------------------------------------\n",
            "45\n",
            "1035\n",
            "--------------------------------------------------\n",
            "46\n",
            "1081\n",
            "--------------------------------------------------\n",
            "47\n",
            "1128\n",
            "--------------------------------------------------\n",
            "48\n",
            "1176\n",
            "--------------------------------------------------\n",
            "49\n",
            "1225\n",
            "--------------------------------------------------\n",
            "50\n",
            "1275\n",
            "--------------------------------------------------\n",
            "51\n",
            "1326\n",
            "--------------------------------------------------\n",
            "52\n",
            "1378\n",
            "--------------------------------------------------\n",
            "53\n",
            "1431\n",
            "--------------------------------------------------\n",
            "54\n",
            "1485\n",
            "--------------------------------------------------\n",
            "55\n",
            "1540\n",
            "--------------------------------------------------\n",
            "56\n",
            "1596\n",
            "--------------------------------------------------\n",
            "57\n",
            "1653\n",
            "--------------------------------------------------\n",
            "58\n",
            "1711\n",
            "--------------------------------------------------\n",
            "59\n",
            "1770\n",
            "--------------------------------------------------\n",
            "60\n",
            "1830\n",
            "--------------------------------------------------\n",
            "61\n",
            "1891\n",
            "--------------------------------------------------\n",
            "62\n",
            "1953\n",
            "--------------------------------------------------\n",
            "63\n",
            "2016\n",
            "--------------------------------------------------\n",
            "64\n",
            "2080\n",
            "--------------------------------------------------\n",
            "65\n",
            "2145\n",
            "--------------------------------------------------\n",
            "66\n",
            "2211\n",
            "--------------------------------------------------\n",
            "67\n",
            "2278\n",
            "--------------------------------------------------\n",
            "68\n",
            "2346\n",
            "--------------------------------------------------\n",
            "69\n",
            "2415\n",
            "--------------------------------------------------\n",
            "70\n",
            "2485\n",
            "--------------------------------------------------\n",
            "71\n",
            "2556\n",
            "--------------------------------------------------\n",
            "72\n",
            "2628\n",
            "--------------------------------------------------\n",
            "73\n",
            "2701\n",
            "--------------------------------------------------\n",
            "74\n",
            "2775\n",
            "--------------------------------------------------\n",
            "75\n",
            "2850\n",
            "--------------------------------------------------\n",
            "76\n",
            "2926\n",
            "--------------------------------------------------\n",
            "77\n",
            "3003\n",
            "--------------------------------------------------\n",
            "78\n",
            "3081\n",
            "--------------------------------------------------\n",
            "79\n",
            "3160\n",
            "--------------------------------------------------\n",
            "80\n",
            "3240\n",
            "--------------------------------------------------\n",
            "81\n",
            "3321\n",
            "--------------------------------------------------\n",
            "82\n",
            "3403\n",
            "--------------------------------------------------\n",
            "83\n",
            "3486\n",
            "--------------------------------------------------\n",
            "84\n",
            "3570\n",
            "--------------------------------------------------\n",
            "85\n",
            "3655\n",
            "--------------------------------------------------\n",
            "86\n",
            "3741\n",
            "--------------------------------------------------\n",
            "87\n",
            "3828\n",
            "--------------------------------------------------\n",
            "88\n",
            "3916\n",
            "--------------------------------------------------\n",
            "89\n",
            "4005\n",
            "--------------------------------------------------\n",
            "90\n",
            "4095\n",
            "--------------------------------------------------\n",
            "91\n",
            "4186\n",
            "--------------------------------------------------\n",
            "92\n",
            "4278\n",
            "--------------------------------------------------\n",
            "93\n",
            "4371\n",
            "--------------------------------------------------\n",
            "94\n",
            "4465\n",
            "--------------------------------------------------\n",
            "95\n",
            "4560\n",
            "--------------------------------------------------\n",
            "96\n",
            "4656\n",
            "--------------------------------------------------\n",
            "97\n",
            "4753\n",
            "--------------------------------------------------\n",
            "98\n",
            "4851\n",
            "--------------------------------------------------\n",
            "99\n",
            "4950\n",
            "--------------------------------------------------\n",
            "100\n",
            "5050\n",
            "--------------------------------------------------\n",
            "101\n",
            "5151\n",
            "--------------------------------------------------\n",
            "102\n",
            "5253\n",
            "--------------------------------------------------\n",
            "103\n",
            "5356\n",
            "--------------------------------------------------\n",
            "104\n",
            "5460\n",
            "--------------------------------------------------\n",
            "105\n",
            "5565\n",
            "--------------------------------------------------\n",
            "106\n",
            "5671\n",
            "--------------------------------------------------\n",
            "107\n",
            "5778\n",
            "--------------------------------------------------\n",
            "108\n",
            "5886\n",
            "--------------------------------------------------\n",
            "109\n",
            "5995\n",
            "--------------------------------------------------\n",
            "110\n",
            "6105\n",
            "--------------------------------------------------\n",
            "111\n",
            "6216\n",
            "--------------------------------------------------\n",
            "112\n",
            "6328\n",
            "--------------------------------------------------\n",
            "113\n",
            "6441\n",
            "--------------------------------------------------\n",
            "114\n",
            "6555\n",
            "--------------------------------------------------\n",
            "115\n",
            "6670\n",
            "--------------------------------------------------\n",
            "116\n",
            "6786\n",
            "--------------------------------------------------\n",
            "117\n",
            "6903\n",
            "--------------------------------------------------\n",
            "118\n",
            "7021\n",
            "--------------------------------------------------\n",
            "119\n",
            "7140\n",
            "--------------------------------------------------\n",
            "120\n",
            "7260\n",
            "--------------------------------------------------\n",
            "121\n",
            "7381\n",
            "--------------------------------------------------\n",
            "122\n",
            "7503\n",
            "--------------------------------------------------\n",
            "123\n",
            "7626\n",
            "--------------------------------------------------\n",
            "124\n",
            "7750\n",
            "--------------------------------------------------\n",
            "125\n",
            "7875\n",
            "--------------------------------------------------\n",
            "126\n",
            "8001\n",
            "--------------------------------------------------\n",
            "127\n",
            "8128\n",
            "--------------------------------------------------\n",
            "128\n",
            "8256\n",
            "--------------------------------------------------\n",
            "129\n",
            "8385\n",
            "--------------------------------------------------\n",
            "130\n",
            "8515\n",
            "--------------------------------------------------\n",
            "131\n",
            "8646\n",
            "--------------------------------------------------\n",
            "132\n",
            "8778\n",
            "--------------------------------------------------\n",
            "133\n",
            "8911\n",
            "--------------------------------------------------\n",
            "134\n",
            "9045\n",
            "--------------------------------------------------\n",
            "135\n",
            "9180\n",
            "--------------------------------------------------\n",
            "136\n",
            "9316\n",
            "--------------------------------------------------\n",
            "137\n",
            "9453\n",
            "--------------------------------------------------\n",
            "138\n",
            "9591\n",
            "--------------------------------------------------\n",
            "139\n",
            "9730\n",
            "--------------------------------------------------\n",
            "140\n",
            "9870\n",
            "--------------------------------------------------\n",
            "141\n",
            "10011\n",
            "--------------------------------------------------\n",
            "142를 더할 때 10000를 넘으며 그떄의 값은 10011입니다.\n"
          ]
        }
      ]
    },
    {
      "cell_type": "code",
      "source": [
        ""
      ],
      "metadata": {
        "id": "excBV3L_w388"
      },
      "execution_count": null,
      "outputs": []
    }
  ]
}