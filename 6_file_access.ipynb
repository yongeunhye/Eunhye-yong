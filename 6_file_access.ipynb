{
  "nbformat": 4,
  "nbformat_minor": 0,
  "metadata": {
    "colab": {
      "name": "6 file_access",
      "provenance": [],
      "collapsed_sections": [],
      "authorship_tag": "ABX9TyNbxPISJGshdb2MkJeterz+",
      "include_colab_link": true
    },
    "kernelspec": {
      "name": "python3",
      "display_name": "Python 3"
    },
    "language_info": {
      "name": "python"
    }
  },
  "cells": [
    {
      "cell_type": "markdown",
      "metadata": {
        "id": "view-in-github",
        "colab_type": "text"
      },
      "source": [
        "<a href=\"https://colab.research.google.com/github/yongeunhye/Eunhye-yong/blob/master/6_file_access.ipynb\" target=\"_parent\"><img src=\"https://colab.research.google.com/assets/colab-badge.svg\" alt=\"Open In Colab\"/></a>"
      ]
    },
    {
      "cell_type": "markdown",
      "source": [
        "#집합\n",
        "\n",
        "{ } 사용\n",
        "\n",
        "• 세트= {값1, 값2, 값3}\n",
        "\n",
        "• 요소는중복될수없음\n",
        "\n",
        "• 요소의 순서가 정해져 있지 않음\n",
        "\n",
        "• 합집합, 교집합, 차집합 등의 연산 가능"
      ],
      "metadata": {
        "id": "WvLrMuNb9gGA"
      }
    },
    {
      "cell_type": "code",
      "source": [
        "a={1,2,3,4}\n",
        "b={3,4,5,6,}\n",
        "a|b"
      ],
      "metadata": {
        "colab": {
          "base_uri": "https://localhost:8080/"
        },
        "id": "J__MwBsW9hZS",
        "outputId": "e0a7e834-c93b-431c-eaa1-37aac1bc1e27"
      },
      "execution_count": 4,
      "outputs": [
        {
          "output_type": "execute_result",
          "data": {
            "text/plain": [
              "{1, 2, 3, 4, 5, 6}"
            ]
          },
          "metadata": {},
          "execution_count": 4
        }
      ]
    },
    {
      "cell_type": "code",
      "source": [
        "set.union(a,b)"
      ],
      "metadata": {
        "colab": {
          "base_uri": "https://localhost:8080/"
        },
        "id": "ZlTlh3Rv-Hfy",
        "outputId": "9d53fa26-7cdc-4419-aaa4-048ae711f43b"
      },
      "execution_count": 2,
      "outputs": [
        {
          "output_type": "execute_result",
          "data": {
            "text/plain": [
              "{1, 2, 3, 4, 5, 6}"
            ]
          },
          "metadata": {},
          "execution_count": 2
        }
      ]
    },
    {
      "cell_type": "code",
      "source": [
        "a&b"
      ],
      "metadata": {
        "colab": {
          "base_uri": "https://localhost:8080/"
        },
        "id": "4Gxcd2Zz-NGu",
        "outputId": "5ba94e28-3d91-462c-e868-d6f029419a05"
      },
      "execution_count": 5,
      "outputs": [
        {
          "output_type": "execute_result",
          "data": {
            "text/plain": [
              "{3, 4}"
            ]
          },
          "metadata": {},
          "execution_count": 5
        }
      ]
    },
    {
      "cell_type": "code",
      "source": [
        "set.intersection(a,b)"
      ],
      "metadata": {
        "colab": {
          "base_uri": "https://localhost:8080/"
        },
        "id": "YLlWVdjI-VMf",
        "outputId": "ce8258c0-480a-4249-f869-f7e6d3d049b0"
      },
      "execution_count": 6,
      "outputs": [
        {
          "output_type": "execute_result",
          "data": {
            "text/plain": [
              "{3, 4}"
            ]
          },
          "metadata": {},
          "execution_count": 6
        }
      ]
    },
    {
      "cell_type": "code",
      "source": [
        "a-b"
      ],
      "metadata": {
        "colab": {
          "base_uri": "https://localhost:8080/"
        },
        "id": "jl3eOSVt-YdO",
        "outputId": "f38310a9-1b64-4c4f-d3c7-3bb7318df8ad"
      },
      "execution_count": 7,
      "outputs": [
        {
          "output_type": "execute_result",
          "data": {
            "text/plain": [
              "{1, 2}"
            ]
          },
          "metadata": {},
          "execution_count": 7
        }
      ]
    },
    {
      "cell_type": "code",
      "source": [
        "set.difference(a,b)"
      ],
      "metadata": {
        "colab": {
          "base_uri": "https://localhost:8080/"
        },
        "id": "pofSKl4q-Z3q",
        "outputId": "ad1d60f7-88ea-43d6-fff8-540ffc930460"
      },
      "execution_count": 8,
      "outputs": [
        {
          "output_type": "execute_result",
          "data": {
            "text/plain": [
              "{1, 2}"
            ]
          },
          "metadata": {},
          "execution_count": 8
        }
      ]
    },
    {
      "cell_type": "code",
      "source": [
        "a={1,2,3,4}\n",
        "a.add(5) #• set에 요소 추가"
      ],
      "metadata": {
        "id": "NUayVeQQ-fJE"
      },
      "execution_count": 15,
      "outputs": []
    },
    {
      "cell_type": "code",
      "source": [
        "a.remove(3) #set에 특정 요소를 삭제하고, 요소가 없으면 그냥 넘어감"
      ],
      "metadata": {
        "id": "S3kg4t5e-jfJ"
      },
      "execution_count": 10,
      "outputs": []
    },
    {
      "cell_type": "code",
      "source": [
        "a.discard(2) #set에 임의의 요소 삭제하고, 해당 요소 반환"
      ],
      "metadata": {
        "id": "PJG5kZ5f-mWP"
      },
      "execution_count": 11,
      "outputs": []
    },
    {
      "cell_type": "code",
      "source": [
        "a.pop()#세트의모든요소삭제"
      ],
      "metadata": {
        "colab": {
          "base_uri": "https://localhost:8080/"
        },
        "id": "5wI_ST7_-obM",
        "outputId": "3770c7cb-1c9b-401a-ed14-c40be8c29cd1"
      },
      "execution_count": 12,
      "outputs": [
        {
          "output_type": "execute_result",
          "data": {
            "text/plain": [
              "1"
            ]
          },
          "metadata": {},
          "execution_count": 12
        }
      ]
    },
    {
      "cell_type": "code",
      "source": [
        "a.clear()"
      ],
      "metadata": {
        "id": "J9LuL6ln-qva"
      },
      "execution_count": 13,
      "outputs": []
    },
    {
      "cell_type": "code",
      "source": [
        "a"
      ],
      "metadata": {
        "colab": {
          "base_uri": "https://localhost:8080/"
        },
        "id": "Mcukdfx6-slH",
        "outputId": "cae1512b-9de2-433f-99e3-b008d757760b"
      },
      "execution_count": 14,
      "outputs": [
        {
          "output_type": "execute_result",
          "data": {
            "text/plain": [
              "set()"
            ]
          },
          "metadata": {},
          "execution_count": 14
        }
      ]
    },
    {
      "cell_type": "code",
      "source": [
        "numbers=(1,2,3,4,5,6)\n",
        "print(\"::\".join(numbers)) #조인은 문자열에만 쓸 수 있는 메서드"
      ],
      "metadata": {
        "colab": {
          "base_uri": "https://localhost:8080/",
          "height": 187
        },
        "id": "sls83mj4-uIq",
        "outputId": "6dfa83a7-c0ba-46c9-8265-802fc2fd1b43"
      },
      "execution_count": 23,
      "outputs": [
        {
          "output_type": "error",
          "ename": "TypeError",
          "evalue": "ignored",
          "traceback": [
            "\u001b[0;31m---------------------------------------------------------------------------\u001b[0m",
            "\u001b[0;31mTypeError\u001b[0m                                 Traceback (most recent call last)",
            "\u001b[0;32m<ipython-input-23-c95c9ac010a0>\u001b[0m in \u001b[0;36m<module>\u001b[0;34m()\u001b[0m\n\u001b[1;32m      1\u001b[0m \u001b[0mnumbers\u001b[0m\u001b[0;34m=\u001b[0m\u001b[0;34m(\u001b[0m\u001b[0;36m1\u001b[0m\u001b[0;34m,\u001b[0m\u001b[0;36m2\u001b[0m\u001b[0;34m,\u001b[0m\u001b[0;36m3\u001b[0m\u001b[0;34m,\u001b[0m\u001b[0;36m4\u001b[0m\u001b[0;34m,\u001b[0m\u001b[0;36m5\u001b[0m\u001b[0;34m,\u001b[0m\u001b[0;36m6\u001b[0m\u001b[0;34m)\u001b[0m\u001b[0;34m\u001b[0m\u001b[0;34m\u001b[0m\u001b[0m\n\u001b[0;32m----> 2\u001b[0;31m \u001b[0mprint\u001b[0m\u001b[0;34m(\u001b[0m\u001b[0;34m\"::\"\u001b[0m\u001b[0;34m.\u001b[0m\u001b[0mjoin\u001b[0m\u001b[0;34m(\u001b[0m\u001b[0mnumbers\u001b[0m\u001b[0;34m)\u001b[0m\u001b[0;34m)\u001b[0m \u001b[0;31m#조인은 문자열에만 쓸 수 있는 메서드\u001b[0m\u001b[0;34m\u001b[0m\u001b[0;34m\u001b[0m\u001b[0m\n\u001b[0m",
            "\u001b[0;31mTypeError\u001b[0m: sequence item 0: expected str instance, int found"
          ]
        }
      ]
    },
    {
      "cell_type": "code",
      "source": [
        "print(list(map(str,numbers)))"
      ],
      "metadata": {
        "colab": {
          "base_uri": "https://localhost:8080/"
        },
        "id": "xc5d5h9BBnNy",
        "outputId": "d8e2df94-eaae-405e-cb8c-e5706e1eb4f1"
      },
      "execution_count": 24,
      "outputs": [
        {
          "output_type": "stream",
          "name": "stdout",
          "text": [
            "['1', '2', '3', '4', '5', '6']\n"
          ]
        }
      ]
    },
    {
      "cell_type": "code",
      "source": [
        "numbers=list(range(1,10+1))\n",
        "print(\"#홀수만 추출하기\")\n",
        "print(list(filter(lambda x : x % 2!=0, numbers)))"
      ],
      "metadata": {
        "colab": {
          "base_uri": "https://localhost:8080/"
        },
        "id": "vXZaClBUB52l",
        "outputId": "9cad287c-20c6-4d15-fb14-c1216d887f30"
      },
      "execution_count": 27,
      "outputs": [
        {
          "output_type": "stream",
          "name": "stdout",
          "text": [
            "#홀수만 추출하기\n",
            "[1, 3, 5, 7, 9]\n"
          ]
        }
      ]
    },
    {
      "cell_type": "code",
      "source": [
        "print(list(filter(lambda x : 3<= x <7, numbers)))"
      ],
      "metadata": {
        "colab": {
          "base_uri": "https://localhost:8080/"
        },
        "id": "65waRJAIExVX",
        "outputId": "bd58176e-56a3-461a-85aa-ab6184144f85"
      },
      "execution_count": 28,
      "outputs": [
        {
          "output_type": "stream",
          "name": "stdout",
          "text": [
            "[3, 4, 5, 6]\n"
          ]
        }
      ]
    },
    {
      "cell_type": "code",
      "source": [
        "print(list(filter(lambda x : x**2<= 50, numbers)))"
      ],
      "metadata": {
        "colab": {
          "base_uri": "https://localhost:8080/"
        },
        "id": "OlZwj5CsE68H",
        "outputId": "a0d44c8b-a156-4a87-a144-71e7bbb683e5"
      },
      "execution_count": 29,
      "outputs": [
        {
          "output_type": "stream",
          "name": "stdout",
          "text": [
            "[1, 2, 3, 4, 5, 6, 7]\n"
          ]
        }
      ]
    },
    {
      "cell_type": "markdown",
      "source": [
        "# 예외처리\n",
        "\n",
        "- 조건문 예외처리\n",
        "- try 예외처리 \n",
        "- ㄴ finally "
      ],
      "metadata": {
        "id": "P-Zj3zCqDY_C"
      }
    },
    {
      "cell_type": "code",
      "source": [
        "number_input_a=int(input(\"정수입력> \"))\n",
        "\n",
        "print(\"원의 반지름:\", number_input_a)\n",
        "print(\"원의 둘레:\", 2 * 3.14 * number_input_a)\n",
        "print(\"원의 반지름:\", 3.14* number_input_a * number_input_a)"
      ],
      "metadata": {
        "colab": {
          "base_uri": "https://localhost:8080/",
          "height": 259
        },
        "id": "A5YkAtnYItw0",
        "outputId": "7a78f64f-1d8a-4465-b483-3baaa383ea64"
      },
      "execution_count": 33,
      "outputs": [
        {
          "name": "stdout",
          "output_type": "stream",
          "text": [
            "정수입력> df\n"
          ]
        },
        {
          "output_type": "error",
          "ename": "ValueError",
          "evalue": "ignored",
          "traceback": [
            "\u001b[0;31m---------------------------------------------------------------------------\u001b[0m",
            "\u001b[0;31mValueError\u001b[0m                                Traceback (most recent call last)",
            "\u001b[0;32m<ipython-input-33-dc6e8e0576ee>\u001b[0m in \u001b[0;36m<module>\u001b[0;34m()\u001b[0m\n\u001b[0;32m----> 1\u001b[0;31m \u001b[0mnumber_input_a\u001b[0m\u001b[0;34m=\u001b[0m\u001b[0mint\u001b[0m\u001b[0;34m(\u001b[0m\u001b[0minput\u001b[0m\u001b[0;34m(\u001b[0m\u001b[0;34m\"정수입력> \"\u001b[0m\u001b[0;34m)\u001b[0m\u001b[0;34m)\u001b[0m\u001b[0;34m\u001b[0m\u001b[0;34m\u001b[0m\u001b[0m\n\u001b[0m\u001b[1;32m      2\u001b[0m \u001b[0;34m\u001b[0m\u001b[0m\n\u001b[1;32m      3\u001b[0m \u001b[0mprint\u001b[0m\u001b[0;34m(\u001b[0m\u001b[0;34m\"원의 반지름:\"\u001b[0m\u001b[0;34m,\u001b[0m \u001b[0mnumber_input_a\u001b[0m\u001b[0;34m)\u001b[0m\u001b[0;34m\u001b[0m\u001b[0;34m\u001b[0m\u001b[0m\n\u001b[1;32m      4\u001b[0m \u001b[0mprint\u001b[0m\u001b[0;34m(\u001b[0m\u001b[0;34m\"원의 둘레:\"\u001b[0m\u001b[0;34m,\u001b[0m \u001b[0;36m2\u001b[0m \u001b[0;34m*\u001b[0m \u001b[0;36m3.14\u001b[0m \u001b[0;34m*\u001b[0m \u001b[0mnumber_input_a\u001b[0m\u001b[0;34m)\u001b[0m\u001b[0;34m\u001b[0m\u001b[0;34m\u001b[0m\u001b[0m\n\u001b[1;32m      5\u001b[0m \u001b[0mprint\u001b[0m\u001b[0;34m(\u001b[0m\u001b[0;34m\"원의 반지름:\"\u001b[0m\u001b[0;34m,\u001b[0m \u001b[0;36m3.14\u001b[0m\u001b[0;34m*\u001b[0m \u001b[0mnumber_input_a\u001b[0m \u001b[0;34m*\u001b[0m \u001b[0mnumber_input_a\u001b[0m\u001b[0;34m)\u001b[0m\u001b[0;34m\u001b[0m\u001b[0;34m\u001b[0m\u001b[0m\n",
            "\u001b[0;31mValueError\u001b[0m: invalid literal for int() with base 10: 'df'"
          ]
        }
      ]
    },
    {
      "cell_type": "code",
      "source": [
        "user_input_a=input(\"정수입력>\")\n",
        "\n",
        "if user_input_a.isdigit():\n",
        "  #숫자로 변환\n",
        "  number_input_a=int(user_input_a)\n",
        "  #출력\n",
        "  print(\"원의 반지름:\", number_input_a)\n",
        "  print(\"원의 둘레:\", 2 * 3.14 * number_input_a)\n",
        "  print(\"원의 반지름:\", 3.14* number_input_a * number_input_a)\n",
        "else:\n",
        "  print(\"정수입력 ㄴㄴ\")\n",
        "\n"
      ],
      "metadata": {
        "colab": {
          "base_uri": "https://localhost:8080/"
        },
        "id": "mSAzALPuJVhe",
        "outputId": "fa6b4998-d740-4b2f-e339-8321c7aa061b"
      },
      "execution_count": 35,
      "outputs": [
        {
          "output_type": "stream",
          "name": "stdout",
          "text": [
            "정수입력>ㅏ\n",
            "정수입력 ㄴㄴ\n"
          ]
        }
      ]
    },
    {
      "cell_type": "code",
      "source": [
        "try:\n",
        "  number_input_a=int(input(\"\b정수입력> \"))\n",
        "except: \n",
        "  print(\"정수입력 ㄴㄴ\")\n",
        "\n",
        "else:\n",
        "  print(\"원의 반지름:\", number_input_a)\n",
        "  print(\"원의 둘레:\", 2 * 3.14 * number_input_a)\n",
        "  print(\"원의 반지름:\", 3.14* number_input_a * number_input_a)\n",
        "\n"
      ],
      "metadata": {
        "colab": {
          "base_uri": "https://localhost:8080/"
        },
        "id": "_6Z09J-tJ3lX",
        "outputId": "bc5f0eb9-23e1-4343-aeb4-42f1de393bdf"
      },
      "execution_count": 38,
      "outputs": [
        {
          "output_type": "stream",
          "name": "stdout",
          "text": [
            "\b정수입력> d\n",
            "정수입력 ㄴㄴ\n"
          ]
        }
      ]
    },
    {
      "cell_type": "code",
      "source": [
        "try:\n",
        "  number_input_a=int(input(\"\b정수입력> \"))\n",
        "  print(\"원의 반지름:\", number_input_a)\n",
        "  print(\"원의 둘레:\", 2 * 3.14 * number_input_a)\n",
        "  print(\"원의 반지름:\", 3.14* number_input_a * number_input_a)\n",
        "except: \n",
        "  print(\"정수입력해주세요\")\n",
        "else:\n",
        "\n",
        "  print(\"에외가 발생하지 않았씁니다.\")\n",
        "\n",
        "finally:\n",
        "  print(\"에휴\")\n",
        "\n",
        "\n"
      ],
      "metadata": {
        "colab": {
          "base_uri": "https://localhost:8080/"
        },
        "id": "Xoi6wkicNmGn",
        "outputId": "f5b30000-c835-4c7a-b372-ac61ee8f2247"
      },
      "execution_count": 39,
      "outputs": [
        {
          "output_type": "stream",
          "name": "stdout",
          "text": [
            "\b정수입력> ㅏ\n",
            "정수입력해주세요\n",
            "에휴\n"
          ]
        }
      ]
    },
    {
      "cell_type": "code",
      "source": [
        "try: \n",
        "  file= open(\"info.txt\", \"w\")\n",
        "  예외.발생해라()\n",
        "\n",
        "except Exception as e: \n",
        "  print(e)\n",
        "\n",
        "file.close()\n",
        "\n",
        "print(\"#파일 확인\")\n",
        "print(\"#file.closed:\", file.closed)\n"
      ],
      "metadata": {
        "colab": {
          "base_uri": "https://localhost:8080/"
        },
        "id": "S4ZQHVF-OU8x",
        "outputId": "09edf5e4-11c7-4b1f-cc93-71c3f7750f22"
      },
      "execution_count": 53,
      "outputs": [
        {
          "output_type": "stream",
          "name": "stdout",
          "text": [
            "name '예외' is not defined\n",
            "#파일 확인\n",
            "#file.closed: True\n"
          ]
        }
      ]
    },
    {
      "cell_type": "markdown",
      "source": [
        ""
      ],
      "metadata": {
        "id": "KJCeByeePocu"
      }
    },
    {
      "cell_type": "code",
      "source": [
        "def write_text_file(filename, text):\n",
        "  try:\n",
        "    file=open(filename,\"w\")\n",
        "    return \n",
        "    file.write(text)\n",
        "  except Exception as e:\n",
        "    print(e)\n",
        "  finally:\n",
        "    file.close()\n",
        "\n",
        "  write_text_file(\"text.txt\", \"안녕하세요\")"
      ],
      "metadata": {
        "id": "i4X06QCCR2a0"
      },
      "execution_count": 54,
      "outputs": []
    },
    {
      "cell_type": "code",
      "source": [
        "print(\"프로그램 시작\")\n",
        "\n",
        "while True:\n",
        "  try: \n",
        "    print(\"try 구문이 실행되었습니다\")\n",
        "    break\n",
        "    print(\"트라이 구문의 브레이크 키워드 뒤입니다.\")\n",
        "  except:\n",
        "    print(\"except\")\n",
        "  finally:\n",
        "    print(\"finally\")\n",
        "  print(\"while final\")\n",
        "print(\"프로그램 종료\")"
      ],
      "metadata": {
        "colab": {
          "base_uri": "https://localhost:8080/"
        },
        "id": "9X4THY7dS56d",
        "outputId": "c9f714fc-8332-4412-c4a7-0f9169efc1fd"
      },
      "execution_count": 56,
      "outputs": [
        {
          "output_type": "stream",
          "name": "stdout",
          "text": [
            "프로그램 시작\n",
            "try 구문이 실행되었습니다\n",
            "finally\n",
            "프로그램 종료\n"
          ]
        }
      ]
    },
    {
      "cell_type": "code",
      "source": [
        "numbers=[52, 273, 3, 21, 346, 90, 10, 228]\n",
        "numbers.index(52)"
      ],
      "metadata": {
        "colab": {
          "base_uri": "https://localhost:8080/"
        },
        "id": "tZ-IyOzDTUf0",
        "outputId": "fc5fd409-c8f3-4c9f-bc91-dea252844649"
      },
      "execution_count": 57,
      "outputs": [
        {
          "output_type": "execute_result",
          "data": {
            "text/plain": [
              "0"
            ]
          },
          "metadata": {},
          "execution_count": 57
        }
      ]
    },
    {
      "cell_type": "code",
      "source": [
        "numbers.index(10)"
      ],
      "metadata": {
        "colab": {
          "base_uri": "https://localhost:8080/"
        },
        "id": "eyBntpZ3Tscc",
        "outputId": "97dae07d-7176-4dc2-e901-c058d94de259"
      },
      "execution_count": 59,
      "outputs": [
        {
          "output_type": "execute_result",
          "data": {
            "text/plain": [
              "6"
            ]
          },
          "metadata": {},
          "execution_count": 59
        }
      ]
    },
    {
      "cell_type": "code",
      "source": [
        "# numbers.index(10000000)"
      ],
      "metadata": {
        "colab": {
          "base_uri": "https://localhost:8080/",
          "height": 169
        },
        "id": "ULf3Fax_Tvhz",
        "outputId": "757016b3-affc-4b5d-b379-1fe26f22b0d2"
      },
      "execution_count": 60,
      "outputs": [
        {
          "output_type": "error",
          "ename": "ValueError",
          "evalue": "ignored",
          "traceback": [
            "\u001b[0;31m---------------------------------------------------------------------------\u001b[0m",
            "\u001b[0;31mValueError\u001b[0m                                Traceback (most recent call last)",
            "\u001b[0;32m<ipython-input-60-356dede64546>\u001b[0m in \u001b[0;36m<module>\u001b[0;34m()\u001b[0m\n\u001b[0;32m----> 1\u001b[0;31m \u001b[0mnumbers\u001b[0m\u001b[0;34m.\u001b[0m\u001b[0mindex\u001b[0m\u001b[0;34m(\u001b[0m\u001b[0;36m10000000\u001b[0m\u001b[0;34m)\u001b[0m\u001b[0;34m\u001b[0m\u001b[0;34m\u001b[0m\u001b[0m\n\u001b[0m",
            "\u001b[0;31mValueError\u001b[0m: 10000000 is not in list"
          ]
        }
      ]
    },
    {
      "cell_type": "code",
      "source": [
        "# numbers=[52, 273, 3, 21, 346, 90, 10, 228]\n",
        "# print(\"#(1) 요소내부에 이쓴ㄴ 값찾기 \")\n",
        "# print(\"-{}는 {}의 위치에 있습니다.\".format(52, numbers.index(52)))\n",
        "\n",
        "\n",
        "\n",
        "# print(\"#(2)요소내부에 없는 값 찾기\")\n",
        "# number=10000\n",
        "\n",
        "\n"
      ],
      "metadata": {
        "id": "y6Wnqma9UH9b"
      },
      "execution_count": null,
      "outputs": []
    },
    {
      "cell_type": "code",
      "source": [
        "try:\n",
        "  number_input_b=int(input(\"정수입력>\"))\n",
        " \n",
        "  #출력\n",
        "  print(\"원의 반지름:\", number_input_b)\n",
        "  print(\"원의 둘레:\", 2 * 3.14 * number_input_b)\n",
        "  print(\"원의 반지름:\", 3.14* number_input_a * number_input_b)\n",
        "\n",
        "except Exception as exception:\n",
        "  print(\"type(exception):\", type(exception))\n",
        "  print(\"exception:\", exception)\n"
      ],
      "metadata": {
        "colab": {
          "base_uri": "https://localhost:8080/"
        },
        "id": "mIv_tEU0T625",
        "outputId": "788d3033-3260-43e4-efae-cb343d435df5"
      },
      "execution_count": 61,
      "outputs": [
        {
          "output_type": "stream",
          "name": "stdout",
          "text": [
            "정수입력>df\n",
            "type(exception): <class 'ValueError'>\n",
            "exception: invalid literal for int() with base 10: 'df'\n"
          ]
        }
      ]
    },
    {
      "cell_type": "code",
      "source": [
        "list_number=[1,2,3,4,]\n",
        "\n",
        "try:\n",
        "  number_input=int(input(\"정수입력:\"))\n",
        "  print(\"{}, {}\".format(number_input, list_number[number_input]))\n",
        "except Exception as exception:\n",
        "  print(type(exception))\n",
        "  print(exception)"
      ],
      "metadata": {
        "colab": {
          "base_uri": "https://localhost:8080/"
        },
        "id": "-7IxaQW1awaw",
        "outputId": "0dd7e3c7-a5d6-439e-f77c-d6da65c98ac1"
      },
      "execution_count": 63,
      "outputs": [
        {
          "output_type": "stream",
          "name": "stdout",
          "text": [
            "정수입력:fdf\n",
            "<class 'ValueError'>\n",
            "invalid literal for int() with base 10: 'fdf'\n"
          ]
        }
      ]
    },
    {
      "cell_type": "code",
      "source": [
        "list_nmber=[1,2,3,4]\n",
        "try:\n",
        "  nmber_input=int(input(\"정수입력\"))\n",
        "  print(\"{},{}\".format(nmber_input, list_nmber[nmber_input]))\n",
        "except ValueError:\n",
        "  print(\"정수입력해주세여\")\n",
        "except IndexError:\n",
        "  print(\"리스트 인덱스 벗어났으어\")"
      ],
      "metadata": {
        "colab": {
          "base_uri": "https://localhost:8080/"
        },
        "id": "Q-qA2z-GbYCY",
        "outputId": "47d43b15-e9dd-40b7-9bca-f5cc8dacc359"
      },
      "execution_count": 66,
      "outputs": [
        {
          "output_type": "stream",
          "name": "stdout",
          "text": [
            "정수입력9\n",
            "리스트 인덱스 벗어났으어\n"
          ]
        }
      ]
    },
    {
      "cell_type": "code",
      "source": [
        "list_nmber=[1,2,3,4]\n",
        "try:\n",
        "  nmber_input=int(input(\"정수입력\"))\n",
        "  print(\"{},{}\".format(nmber_input, list_nmber[nmber_input]))\n",
        "except ValueError as exception:\n",
        "  print(\"정수입력해주세여\")\n",
        "  print(exception)\n",
        "except IndexError as exception:\n",
        "  print(\"리스트 인덱스 벗어났으어\")\n",
        "  print(exception)"
      ],
      "metadata": {
        "colab": {
          "base_uri": "https://localhost:8080/"
        },
        "id": "z6U9nvOIcGyH",
        "outputId": "64c5dd3d-427c-4c9c-96be-877d17c60434"
      },
      "execution_count": 67,
      "outputs": [
        {
          "output_type": "stream",
          "name": "stdout",
          "text": [
            "정수입력ld\n",
            "정수입력해주세여\n",
            "invalid literal for int() with base 10: 'ld'\n"
          ]
        }
      ]
    },
    {
      "cell_type": "code",
      "source": [
        "list_nmber=[1,2,3,4]\n",
        "try:\n",
        "  nmber_input=int(input(\"정수입력\"))\n",
        "  print(\"{},{}\".format(nmber_input, list_nmber[nmber_input]))\n",
        "  dPdhㅇㅇㄹㄴㅁㅎㅎㅎㄴㅇㅎㄴl.발생해주세요()\n",
        "except ValueError as exception:\n",
        "  print(\"정수입력해주세여\")\n",
        "  print(exception)\n",
        "except IndexError as exception:\n",
        "  print(\"리스트 인덱스 벗어났으어\")\n",
        "  print(exception)"
      ],
      "metadata": {
        "colab": {
          "base_uri": "https://localhost:8080/",
          "height": 277
        },
        "id": "Z_gGLxaEchz_",
        "outputId": "3bf96277-ccd6-45a1-b140-6b1ec2ef2517"
      },
      "execution_count": 73,
      "outputs": [
        {
          "output_type": "stream",
          "name": "stdout",
          "text": [
            "정수입력1\n",
            "1,2\n"
          ]
        },
        {
          "output_type": "error",
          "ename": "NameError",
          "evalue": "ignored",
          "traceback": [
            "\u001b[0;31m---------------------------------------------------------------------------\u001b[0m",
            "\u001b[0;31mNameError\u001b[0m                                 Traceback (most recent call last)",
            "\u001b[0;32m<ipython-input-73-91db640fe148>\u001b[0m in \u001b[0;36m<module>\u001b[0;34m()\u001b[0m\n\u001b[1;32m      3\u001b[0m   \u001b[0mnmber_input\u001b[0m\u001b[0;34m=\u001b[0m\u001b[0mint\u001b[0m\u001b[0;34m(\u001b[0m\u001b[0minput\u001b[0m\u001b[0;34m(\u001b[0m\u001b[0;34m\"정수입력\"\u001b[0m\u001b[0;34m)\u001b[0m\u001b[0;34m)\u001b[0m\u001b[0;34m\u001b[0m\u001b[0;34m\u001b[0m\u001b[0m\n\u001b[1;32m      4\u001b[0m   \u001b[0mprint\u001b[0m\u001b[0;34m(\u001b[0m\u001b[0;34m\"{},{}\"\u001b[0m\u001b[0;34m.\u001b[0m\u001b[0mformat\u001b[0m\u001b[0;34m(\u001b[0m\u001b[0mnmber_input\u001b[0m\u001b[0;34m,\u001b[0m \u001b[0mlist_nmber\u001b[0m\u001b[0;34m[\u001b[0m\u001b[0mnmber_input\u001b[0m\u001b[0;34m]\u001b[0m\u001b[0;34m)\u001b[0m\u001b[0;34m)\u001b[0m\u001b[0;34m\u001b[0m\u001b[0;34m\u001b[0m\u001b[0m\n\u001b[0;32m----> 5\u001b[0;31m   \u001b[0mdPdhㅇㅇㄹㄴㅁㅎㅎㅎㄴㅇㅎㄴl\u001b[0m\u001b[0;34m.\u001b[0m\u001b[0m발생해주세요\u001b[0m\u001b[0;34m(\u001b[0m\u001b[0;34m)\u001b[0m\u001b[0;34m\u001b[0m\u001b[0;34m\u001b[0m\u001b[0m\n\u001b[0m\u001b[1;32m      6\u001b[0m \u001b[0;32mexcept\u001b[0m \u001b[0mValueError\u001b[0m \u001b[0;32mas\u001b[0m \u001b[0mexception\u001b[0m\u001b[0;34m:\u001b[0m\u001b[0;34m\u001b[0m\u001b[0;34m\u001b[0m\u001b[0m\n\u001b[1;32m      7\u001b[0m   \u001b[0mprint\u001b[0m\u001b[0;34m(\u001b[0m\u001b[0;34m\"정수입력해주세여\"\u001b[0m\u001b[0;34m)\u001b[0m\u001b[0;34m\u001b[0m\u001b[0;34m\u001b[0m\u001b[0m\n",
            "\u001b[0;31mNameError\u001b[0m: name 'dPdhᄋᄋᄅᄂᄆᄒᄒᄒᄂᄋᄒᄂl' is not defined"
          ]
        }
      ]
    },
    {
      "cell_type": "code",
      "source": [
        "list_nmber=[1,2,3,4]\n",
        "try:\n",
        "  nmber_input=int(input(\"정수입력\"))\n",
        "  print(\"{},{}\".format(nmber_input, list_nmber[nmber_input]))\n",
        "  예외.발생해주세요()\n",
        "except ValueError as exception:\n",
        "  print(\"정수입력해주세여\")\n",
        "  print(exception)\n",
        "except IndexError as exception:\n",
        "  print(\"리스트 인덱스 벗어났으어\")\n",
        "  print(exception)\n",
        "\n",
        "except Exception as exception:\n",
        "  print(\"예상못한오류발생\")\n",
        "  print(type(exception), exception)"
      ],
      "metadata": {
        "colab": {
          "base_uri": "https://localhost:8080/"
        },
        "id": "AwTy8TZpc8MC",
        "outputId": "5413e977-b90e-4e76-e88a-52ceb7e25df5"
      },
      "execution_count": 75,
      "outputs": [
        {
          "output_type": "stream",
          "name": "stdout",
          "text": [
            "정수입력4\n",
            "리스트 인덱스 벗어났으어\n",
            "list index out of range\n"
          ]
        }
      ]
    },
    {
      "cell_type": "markdown",
      "source": [
        "  [링크 텍스트](https://]\n",
        "  ㄷㅇㅇㅇㅇㅇㅇㅇㅇㅇㅇㅇㅇㅇㅇㅇㅇㅇㄴ8888888888888888888886)"
      ],
      "metadata": {
        "id": "CrVluUuUZ9aj"
      }
    }
  ]
}